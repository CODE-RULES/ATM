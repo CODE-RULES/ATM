{
  "cells": [
    {
      "cell_type": "markdown",
      "metadata": {
        "id": "view-in-github",
        "colab_type": "text"
      },
      "source": [
        "<a href=\"https://colab.research.google.com/github/CODE-RULES/ATM/blob/main/Opportunity.ipynb\" target=\"_parent\"><img src=\"https://colab.research.google.com/assets/colab-badge.svg\" alt=\"Open In Colab\"/></a>"
      ]
    },
    {
      "cell_type": "code",
      "execution_count": 47,
      "metadata": {
        "id": "esqbc3D2cVaD"
      },
      "outputs": [],
      "source": [
        "#Let's first import the libraries we will be using for this EDA\n",
        "import pandas as pd\n",
        "import numpy as np\n",
        "import matplotlib.pyplot as plt\n",
        "import seaborn as sns"
      ]
    },
    {
      "cell_type": "code",
      "execution_count": 48,
      "metadata": {
        "id": "Q4T_t5YBdDCq"
      },
      "outputs": [],
      "source": [
        "#Let's Load in the csv data for our EDA\n",
        "df=pd.read_csv('/content/Opportunity Wise Data (2).csv')"
      ]
    },
    {
      "cell_type": "code",
      "execution_count": 49,
      "metadata": {
        "colab": {
          "base_uri": "https://localhost:8080/",
          "height": 654
        },
        "id": "1QVlMIXFdgGI",
        "outputId": "7eaff202-ebc3-41e4-bbf2-db9239c99fb2"
      },
      "outputs": [
        {
          "output_type": "execute_result",
          "data": {
            "text/plain": [
              "                             Profile Id                  Opportunity Id  \\\n",
              "0  31ce84c2-2bd1-40ba-b2d8-f164fe125306  00000000-0G4F-19XB-EXPW-KS8F3N   \n",
              "1  36814990-f854-4f76-8c63-91f27567d080  00000000-0G4F-19XB-EXPW-KS8F3N   \n",
              "2  8154328c-f8fe-4bd1-af05-783e140f68b5  00000000-0G4F-19XB-EXPW-KS8F3N   \n",
              "3  a83abad6-db1e-44c4-a8f4-9e397e282d73  00000000-0G4F-19XB-EXPW-KS8F3N   \n",
              "4  c2b8a15f-2ba3-41e4-a553-7ca68b0d4a54  00000000-0G4F-19XB-EXPW-KS8F3N   \n",
              "\n",
              "                              Opportunity Name Opportunity Category  \\\n",
              "0  Statement of Purpose (SOP) Writing Workshop                Event   \n",
              "1  Statement of Purpose (SOP) Writing Workshop                Event   \n",
              "2  Statement of Purpose (SOP) Writing Workshop                Event   \n",
              "3  Statement of Purpose (SOP) Writing Workshop                Event   \n",
              "4  Statement of Purpose (SOP) Writing Workshop                Event   \n",
              "\n",
              "     Opportunity End Date  Gender       City           State      Country  \\\n",
              "0  Jan 05, 2023, 18:58:39    Male      Dhaka           Savar   Bangladesh   \n",
              "1  Jan 05, 2023, 18:58:39  Female   Amritsar          Punjab  Afghanistan   \n",
              "2  Jan 05, 2023, 18:58:39  Female      Satna  Madhya pradesh        India   \n",
              "3  Jan 05, 2023, 18:58:39    Male  Hyderabad       Telangana        India   \n",
              "4  Jan 05, 2023, 18:58:39    Male  Bangalore       Karnataka        India   \n",
              "\n",
              "  Zip Code  ...    Current Student Status            Current/Intended Major  \\\n",
              "0     1342  ...       High School Student                      Data Science   \n",
              "1   123242  ...     Undergraduate Student                       Otheraassss   \n",
              "2   485001  ...       High School Student  Computer Science and Engineering   \n",
              "3   500039  ...  Graduate Program Student                  Computer Science   \n",
              "4   560105  ...     Undergraduate Student                             jknhk   \n",
              "\n",
              "  Status Description              Apply Date  Opportunity Start Date  \\\n",
              "0        Not Started  Oct 03, 2022, 17:29:17  Jan 05, 2023, 18:52:39   \n",
              "1      Rewards Award  Jan 05, 2023, 18:58:37  Jan 05, 2023, 18:52:39   \n",
              "2        Not Started  Oct 04, 2022, 08:10:07  Jan 05, 2023, 18:52:39   \n",
              "3        Not Started  Oct 05, 2022, 13:41:47  Jan 05, 2023, 18:52:39   \n",
              "4        Not Started  Oct 05, 2022, 11:07:17  Jan 05, 2023, 18:52:39   \n",
              "\n",
              "  Reward Amount                        Badge Id  \\\n",
              "0           NaN                             NaN   \n",
              "1         200.0  00000000-0GSP-A3RB-BT5G-1ECTG9   \n",
              "2           NaN                             NaN   \n",
              "3           NaN                             NaN   \n",
              "4           NaN                             NaN   \n",
              "\n",
              "                                    Badge Name Skill Points Earned  \\\n",
              "0                                          NaN                 NaN   \n",
              "1  Statement of Purpose (SOP) Writing Workshop                10.0   \n",
              "2                                          NaN                 NaN   \n",
              "3                                          NaN                 NaN   \n",
              "4                                          NaN                 NaN   \n",
              "\n",
              "                                       Skills Earned  \n",
              "0                                                NaN  \n",
              "1  [\"Critical Thinking\",\"Creative Thinking\",\"Comm...  \n",
              "2                                                NaN  \n",
              "3                                                NaN  \n",
              "4                                                NaN  \n",
              "\n",
              "[5 rows x 21 columns]"
            ],
            "text/html": [
              "\n",
              "  <div id=\"df-c20ab536-8715-4089-814d-207af1130732\" class=\"colab-df-container\">\n",
              "    <div>\n",
              "<style scoped>\n",
              "    .dataframe tbody tr th:only-of-type {\n",
              "        vertical-align: middle;\n",
              "    }\n",
              "\n",
              "    .dataframe tbody tr th {\n",
              "        vertical-align: top;\n",
              "    }\n",
              "\n",
              "    .dataframe thead th {\n",
              "        text-align: right;\n",
              "    }\n",
              "</style>\n",
              "<table border=\"1\" class=\"dataframe\">\n",
              "  <thead>\n",
              "    <tr style=\"text-align: right;\">\n",
              "      <th></th>\n",
              "      <th>Profile Id</th>\n",
              "      <th>Opportunity Id</th>\n",
              "      <th>Opportunity Name</th>\n",
              "      <th>Opportunity Category</th>\n",
              "      <th>Opportunity End Date</th>\n",
              "      <th>Gender</th>\n",
              "      <th>City</th>\n",
              "      <th>State</th>\n",
              "      <th>Country</th>\n",
              "      <th>Zip Code</th>\n",
              "      <th>...</th>\n",
              "      <th>Current Student Status</th>\n",
              "      <th>Current/Intended Major</th>\n",
              "      <th>Status Description</th>\n",
              "      <th>Apply Date</th>\n",
              "      <th>Opportunity Start Date</th>\n",
              "      <th>Reward Amount</th>\n",
              "      <th>Badge Id</th>\n",
              "      <th>Badge Name</th>\n",
              "      <th>Skill Points Earned</th>\n",
              "      <th>Skills Earned</th>\n",
              "    </tr>\n",
              "  </thead>\n",
              "  <tbody>\n",
              "    <tr>\n",
              "      <th>0</th>\n",
              "      <td>31ce84c2-2bd1-40ba-b2d8-f164fe125306</td>\n",
              "      <td>00000000-0G4F-19XB-EXPW-KS8F3N</td>\n",
              "      <td>Statement of Purpose (SOP) Writing Workshop</td>\n",
              "      <td>Event</td>\n",
              "      <td>Jan 05, 2023, 18:58:39</td>\n",
              "      <td>Male</td>\n",
              "      <td>Dhaka</td>\n",
              "      <td>Savar</td>\n",
              "      <td>Bangladesh</td>\n",
              "      <td>1342</td>\n",
              "      <td>...</td>\n",
              "      <td>High School Student</td>\n",
              "      <td>Data Science</td>\n",
              "      <td>Not Started</td>\n",
              "      <td>Oct 03, 2022, 17:29:17</td>\n",
              "      <td>Jan 05, 2023, 18:52:39</td>\n",
              "      <td>NaN</td>\n",
              "      <td>NaN</td>\n",
              "      <td>NaN</td>\n",
              "      <td>NaN</td>\n",
              "      <td>NaN</td>\n",
              "    </tr>\n",
              "    <tr>\n",
              "      <th>1</th>\n",
              "      <td>36814990-f854-4f76-8c63-91f27567d080</td>\n",
              "      <td>00000000-0G4F-19XB-EXPW-KS8F3N</td>\n",
              "      <td>Statement of Purpose (SOP) Writing Workshop</td>\n",
              "      <td>Event</td>\n",
              "      <td>Jan 05, 2023, 18:58:39</td>\n",
              "      <td>Female</td>\n",
              "      <td>Amritsar</td>\n",
              "      <td>Punjab</td>\n",
              "      <td>Afghanistan</td>\n",
              "      <td>123242</td>\n",
              "      <td>...</td>\n",
              "      <td>Undergraduate Student</td>\n",
              "      <td>Otheraassss</td>\n",
              "      <td>Rewards Award</td>\n",
              "      <td>Jan 05, 2023, 18:58:37</td>\n",
              "      <td>Jan 05, 2023, 18:52:39</td>\n",
              "      <td>200.0</td>\n",
              "      <td>00000000-0GSP-A3RB-BT5G-1ECTG9</td>\n",
              "      <td>Statement of Purpose (SOP) Writing Workshop</td>\n",
              "      <td>10.0</td>\n",
              "      <td>[\"Critical Thinking\",\"Creative Thinking\",\"Comm...</td>\n",
              "    </tr>\n",
              "    <tr>\n",
              "      <th>2</th>\n",
              "      <td>8154328c-f8fe-4bd1-af05-783e140f68b5</td>\n",
              "      <td>00000000-0G4F-19XB-EXPW-KS8F3N</td>\n",
              "      <td>Statement of Purpose (SOP) Writing Workshop</td>\n",
              "      <td>Event</td>\n",
              "      <td>Jan 05, 2023, 18:58:39</td>\n",
              "      <td>Female</td>\n",
              "      <td>Satna</td>\n",
              "      <td>Madhya pradesh</td>\n",
              "      <td>India</td>\n",
              "      <td>485001</td>\n",
              "      <td>...</td>\n",
              "      <td>High School Student</td>\n",
              "      <td>Computer Science and Engineering</td>\n",
              "      <td>Not Started</td>\n",
              "      <td>Oct 04, 2022, 08:10:07</td>\n",
              "      <td>Jan 05, 2023, 18:52:39</td>\n",
              "      <td>NaN</td>\n",
              "      <td>NaN</td>\n",
              "      <td>NaN</td>\n",
              "      <td>NaN</td>\n",
              "      <td>NaN</td>\n",
              "    </tr>\n",
              "    <tr>\n",
              "      <th>3</th>\n",
              "      <td>a83abad6-db1e-44c4-a8f4-9e397e282d73</td>\n",
              "      <td>00000000-0G4F-19XB-EXPW-KS8F3N</td>\n",
              "      <td>Statement of Purpose (SOP) Writing Workshop</td>\n",
              "      <td>Event</td>\n",
              "      <td>Jan 05, 2023, 18:58:39</td>\n",
              "      <td>Male</td>\n",
              "      <td>Hyderabad</td>\n",
              "      <td>Telangana</td>\n",
              "      <td>India</td>\n",
              "      <td>500039</td>\n",
              "      <td>...</td>\n",
              "      <td>Graduate Program Student</td>\n",
              "      <td>Computer Science</td>\n",
              "      <td>Not Started</td>\n",
              "      <td>Oct 05, 2022, 13:41:47</td>\n",
              "      <td>Jan 05, 2023, 18:52:39</td>\n",
              "      <td>NaN</td>\n",
              "      <td>NaN</td>\n",
              "      <td>NaN</td>\n",
              "      <td>NaN</td>\n",
              "      <td>NaN</td>\n",
              "    </tr>\n",
              "    <tr>\n",
              "      <th>4</th>\n",
              "      <td>c2b8a15f-2ba3-41e4-a553-7ca68b0d4a54</td>\n",
              "      <td>00000000-0G4F-19XB-EXPW-KS8F3N</td>\n",
              "      <td>Statement of Purpose (SOP) Writing Workshop</td>\n",
              "      <td>Event</td>\n",
              "      <td>Jan 05, 2023, 18:58:39</td>\n",
              "      <td>Male</td>\n",
              "      <td>Bangalore</td>\n",
              "      <td>Karnataka</td>\n",
              "      <td>India</td>\n",
              "      <td>560105</td>\n",
              "      <td>...</td>\n",
              "      <td>Undergraduate Student</td>\n",
              "      <td>jknhk</td>\n",
              "      <td>Not Started</td>\n",
              "      <td>Oct 05, 2022, 11:07:17</td>\n",
              "      <td>Jan 05, 2023, 18:52:39</td>\n",
              "      <td>NaN</td>\n",
              "      <td>NaN</td>\n",
              "      <td>NaN</td>\n",
              "      <td>NaN</td>\n",
              "      <td>NaN</td>\n",
              "    </tr>\n",
              "  </tbody>\n",
              "</table>\n",
              "<p>5 rows × 21 columns</p>\n",
              "</div>\n",
              "    <div class=\"colab-df-buttons\">\n",
              "\n",
              "  <div class=\"colab-df-container\">\n",
              "    <button class=\"colab-df-convert\" onclick=\"convertToInteractive('df-c20ab536-8715-4089-814d-207af1130732')\"\n",
              "            title=\"Convert this dataframe to an interactive table.\"\n",
              "            style=\"display:none;\">\n",
              "\n",
              "  <svg xmlns=\"http://www.w3.org/2000/svg\" height=\"24px\" viewBox=\"0 -960 960 960\">\n",
              "    <path d=\"M120-120v-720h720v720H120Zm60-500h600v-160H180v160Zm220 220h160v-160H400v160Zm0 220h160v-160H400v160ZM180-400h160v-160H180v160Zm440 0h160v-160H620v160ZM180-180h160v-160H180v160Zm440 0h160v-160H620v160Z\"/>\n",
              "  </svg>\n",
              "    </button>\n",
              "\n",
              "  <style>\n",
              "    .colab-df-container {\n",
              "      display:flex;\n",
              "      gap: 12px;\n",
              "    }\n",
              "\n",
              "    .colab-df-convert {\n",
              "      background-color: #E8F0FE;\n",
              "      border: none;\n",
              "      border-radius: 50%;\n",
              "      cursor: pointer;\n",
              "      display: none;\n",
              "      fill: #1967D2;\n",
              "      height: 32px;\n",
              "      padding: 0 0 0 0;\n",
              "      width: 32px;\n",
              "    }\n",
              "\n",
              "    .colab-df-convert:hover {\n",
              "      background-color: #E2EBFA;\n",
              "      box-shadow: 0px 1px 2px rgba(60, 64, 67, 0.3), 0px 1px 3px 1px rgba(60, 64, 67, 0.15);\n",
              "      fill: #174EA6;\n",
              "    }\n",
              "\n",
              "    .colab-df-buttons div {\n",
              "      margin-bottom: 4px;\n",
              "    }\n",
              "\n",
              "    [theme=dark] .colab-df-convert {\n",
              "      background-color: #3B4455;\n",
              "      fill: #D2E3FC;\n",
              "    }\n",
              "\n",
              "    [theme=dark] .colab-df-convert:hover {\n",
              "      background-color: #434B5C;\n",
              "      box-shadow: 0px 1px 3px 1px rgba(0, 0, 0, 0.15);\n",
              "      filter: drop-shadow(0px 1px 2px rgba(0, 0, 0, 0.3));\n",
              "      fill: #FFFFFF;\n",
              "    }\n",
              "  </style>\n",
              "\n",
              "    <script>\n",
              "      const buttonEl =\n",
              "        document.querySelector('#df-c20ab536-8715-4089-814d-207af1130732 button.colab-df-convert');\n",
              "      buttonEl.style.display =\n",
              "        google.colab.kernel.accessAllowed ? 'block' : 'none';\n",
              "\n",
              "      async function convertToInteractive(key) {\n",
              "        const element = document.querySelector('#df-c20ab536-8715-4089-814d-207af1130732');\n",
              "        const dataTable =\n",
              "          await google.colab.kernel.invokeFunction('convertToInteractive',\n",
              "                                                    [key], {});\n",
              "        if (!dataTable) return;\n",
              "\n",
              "        const docLinkHtml = 'Like what you see? Visit the ' +\n",
              "          '<a target=\"_blank\" href=https://colab.research.google.com/notebooks/data_table.ipynb>data table notebook</a>'\n",
              "          + ' to learn more about interactive tables.';\n",
              "        element.innerHTML = '';\n",
              "        dataTable['output_type'] = 'display_data';\n",
              "        await google.colab.output.renderOutput(dataTable, element);\n",
              "        const docLink = document.createElement('div');\n",
              "        docLink.innerHTML = docLinkHtml;\n",
              "        element.appendChild(docLink);\n",
              "      }\n",
              "    </script>\n",
              "  </div>\n",
              "\n",
              "\n",
              "<div id=\"df-5a6d7bbe-fc16-4936-aa6e-fee91b19d69a\">\n",
              "  <button class=\"colab-df-quickchart\" onclick=\"quickchart('df-5a6d7bbe-fc16-4936-aa6e-fee91b19d69a')\"\n",
              "            title=\"Suggest charts\"\n",
              "            style=\"display:none;\">\n",
              "\n",
              "<svg xmlns=\"http://www.w3.org/2000/svg\" height=\"24px\"viewBox=\"0 0 24 24\"\n",
              "     width=\"24px\">\n",
              "    <g>\n",
              "        <path d=\"M19 3H5c-1.1 0-2 .9-2 2v14c0 1.1.9 2 2 2h14c1.1 0 2-.9 2-2V5c0-1.1-.9-2-2-2zM9 17H7v-7h2v7zm4 0h-2V7h2v10zm4 0h-2v-4h2v4z\"/>\n",
              "    </g>\n",
              "</svg>\n",
              "  </button>\n",
              "\n",
              "<style>\n",
              "  .colab-df-quickchart {\n",
              "      --bg-color: #E8F0FE;\n",
              "      --fill-color: #1967D2;\n",
              "      --hover-bg-color: #E2EBFA;\n",
              "      --hover-fill-color: #174EA6;\n",
              "      --disabled-fill-color: #AAA;\n",
              "      --disabled-bg-color: #DDD;\n",
              "  }\n",
              "\n",
              "  [theme=dark] .colab-df-quickchart {\n",
              "      --bg-color: #3B4455;\n",
              "      --fill-color: #D2E3FC;\n",
              "      --hover-bg-color: #434B5C;\n",
              "      --hover-fill-color: #FFFFFF;\n",
              "      --disabled-bg-color: #3B4455;\n",
              "      --disabled-fill-color: #666;\n",
              "  }\n",
              "\n",
              "  .colab-df-quickchart {\n",
              "    background-color: var(--bg-color);\n",
              "    border: none;\n",
              "    border-radius: 50%;\n",
              "    cursor: pointer;\n",
              "    display: none;\n",
              "    fill: var(--fill-color);\n",
              "    height: 32px;\n",
              "    padding: 0;\n",
              "    width: 32px;\n",
              "  }\n",
              "\n",
              "  .colab-df-quickchart:hover {\n",
              "    background-color: var(--hover-bg-color);\n",
              "    box-shadow: 0 1px 2px rgba(60, 64, 67, 0.3), 0 1px 3px 1px rgba(60, 64, 67, 0.15);\n",
              "    fill: var(--button-hover-fill-color);\n",
              "  }\n",
              "\n",
              "  .colab-df-quickchart-complete:disabled,\n",
              "  .colab-df-quickchart-complete:disabled:hover {\n",
              "    background-color: var(--disabled-bg-color);\n",
              "    fill: var(--disabled-fill-color);\n",
              "    box-shadow: none;\n",
              "  }\n",
              "\n",
              "  .colab-df-spinner {\n",
              "    border: 2px solid var(--fill-color);\n",
              "    border-color: transparent;\n",
              "    border-bottom-color: var(--fill-color);\n",
              "    animation:\n",
              "      spin 1s steps(1) infinite;\n",
              "  }\n",
              "\n",
              "  @keyframes spin {\n",
              "    0% {\n",
              "      border-color: transparent;\n",
              "      border-bottom-color: var(--fill-color);\n",
              "      border-left-color: var(--fill-color);\n",
              "    }\n",
              "    20% {\n",
              "      border-color: transparent;\n",
              "      border-left-color: var(--fill-color);\n",
              "      border-top-color: var(--fill-color);\n",
              "    }\n",
              "    30% {\n",
              "      border-color: transparent;\n",
              "      border-left-color: var(--fill-color);\n",
              "      border-top-color: var(--fill-color);\n",
              "      border-right-color: var(--fill-color);\n",
              "    }\n",
              "    40% {\n",
              "      border-color: transparent;\n",
              "      border-right-color: var(--fill-color);\n",
              "      border-top-color: var(--fill-color);\n",
              "    }\n",
              "    60% {\n",
              "      border-color: transparent;\n",
              "      border-right-color: var(--fill-color);\n",
              "    }\n",
              "    80% {\n",
              "      border-color: transparent;\n",
              "      border-right-color: var(--fill-color);\n",
              "      border-bottom-color: var(--fill-color);\n",
              "    }\n",
              "    90% {\n",
              "      border-color: transparent;\n",
              "      border-bottom-color: var(--fill-color);\n",
              "    }\n",
              "  }\n",
              "</style>\n",
              "\n",
              "  <script>\n",
              "    async function quickchart(key) {\n",
              "      const quickchartButtonEl =\n",
              "        document.querySelector('#' + key + ' button');\n",
              "      quickchartButtonEl.disabled = true;  // To prevent multiple clicks.\n",
              "      quickchartButtonEl.classList.add('colab-df-spinner');\n",
              "      try {\n",
              "        const charts = await google.colab.kernel.invokeFunction(\n",
              "            'suggestCharts', [key], {});\n",
              "      } catch (error) {\n",
              "        console.error('Error during call to suggestCharts:', error);\n",
              "      }\n",
              "      quickchartButtonEl.classList.remove('colab-df-spinner');\n",
              "      quickchartButtonEl.classList.add('colab-df-quickchart-complete');\n",
              "    }\n",
              "    (() => {\n",
              "      let quickchartButtonEl =\n",
              "        document.querySelector('#df-5a6d7bbe-fc16-4936-aa6e-fee91b19d69a button');\n",
              "      quickchartButtonEl.style.display =\n",
              "        google.colab.kernel.accessAllowed ? 'block' : 'none';\n",
              "    })();\n",
              "  </script>\n",
              "</div>\n",
              "\n",
              "    </div>\n",
              "  </div>\n"
            ],
            "application/vnd.google.colaboratory.intrinsic+json": {
              "type": "dataframe",
              "variable_name": "df"
            }
          },
          "metadata": {},
          "execution_count": 49
        }
      ],
      "source": [
        "#Let's take a look at the first 5 rows to get to know what the data contains\n",
        "df.head()"
      ]
    },
    {
      "cell_type": "code",
      "execution_count": 50,
      "metadata": {
        "colab": {
          "base_uri": "https://localhost:8080/",
          "height": 0
        },
        "id": "0pe3zDwieLgI",
        "outputId": "93e72a75-240a-4a7b-cb4e-1d8e3a66678b"
      },
      "outputs": [
        {
          "output_type": "execute_result",
          "data": {
            "text/plain": [
              "(20322, 21)"
            ]
          },
          "metadata": {},
          "execution_count": 50
        }
      ],
      "source": [
        "#Let's take a look at the shape of the data. Here we can see it contains 21 columns and over 20000 rows\n",
        "df.shape"
      ]
    },
    {
      "cell_type": "code",
      "source": [
        "#Now let's check the statistical summary of the dataset\n",
        "df.describe()"
      ],
      "metadata": {
        "colab": {
          "base_uri": "https://localhost:8080/",
          "height": 300
        },
        "id": "Nf6Pv4T5hiun",
        "outputId": "5fde0f2f-6af3-401c-c758-7beac1da8b5d"
      },
      "execution_count": 51,
      "outputs": [
        {
          "output_type": "execute_result",
          "data": {
            "text/plain": [
              "       Reward Amount  Skill Points Earned\n",
              "count    2521.000000          2521.000000\n",
              "mean     1081.261404          1186.964697\n",
              "std       927.251398           399.172150\n",
              "min        50.000000            10.000000\n",
              "25%       500.000000          1182.000000\n",
              "50%       500.000000          1182.000000\n",
              "75%      2500.000000          1182.000000\n",
              "max      2500.000000          1776.000000"
            ],
            "text/html": [
              "\n",
              "  <div id=\"df-19441a7b-897c-4a5a-a1ad-f04c05495983\" class=\"colab-df-container\">\n",
              "    <div>\n",
              "<style scoped>\n",
              "    .dataframe tbody tr th:only-of-type {\n",
              "        vertical-align: middle;\n",
              "    }\n",
              "\n",
              "    .dataframe tbody tr th {\n",
              "        vertical-align: top;\n",
              "    }\n",
              "\n",
              "    .dataframe thead th {\n",
              "        text-align: right;\n",
              "    }\n",
              "</style>\n",
              "<table border=\"1\" class=\"dataframe\">\n",
              "  <thead>\n",
              "    <tr style=\"text-align: right;\">\n",
              "      <th></th>\n",
              "      <th>Reward Amount</th>\n",
              "      <th>Skill Points Earned</th>\n",
              "    </tr>\n",
              "  </thead>\n",
              "  <tbody>\n",
              "    <tr>\n",
              "      <th>count</th>\n",
              "      <td>2521.000000</td>\n",
              "      <td>2521.000000</td>\n",
              "    </tr>\n",
              "    <tr>\n",
              "      <th>mean</th>\n",
              "      <td>1081.261404</td>\n",
              "      <td>1186.964697</td>\n",
              "    </tr>\n",
              "    <tr>\n",
              "      <th>std</th>\n",
              "      <td>927.251398</td>\n",
              "      <td>399.172150</td>\n",
              "    </tr>\n",
              "    <tr>\n",
              "      <th>min</th>\n",
              "      <td>50.000000</td>\n",
              "      <td>10.000000</td>\n",
              "    </tr>\n",
              "    <tr>\n",
              "      <th>25%</th>\n",
              "      <td>500.000000</td>\n",
              "      <td>1182.000000</td>\n",
              "    </tr>\n",
              "    <tr>\n",
              "      <th>50%</th>\n",
              "      <td>500.000000</td>\n",
              "      <td>1182.000000</td>\n",
              "    </tr>\n",
              "    <tr>\n",
              "      <th>75%</th>\n",
              "      <td>2500.000000</td>\n",
              "      <td>1182.000000</td>\n",
              "    </tr>\n",
              "    <tr>\n",
              "      <th>max</th>\n",
              "      <td>2500.000000</td>\n",
              "      <td>1776.000000</td>\n",
              "    </tr>\n",
              "  </tbody>\n",
              "</table>\n",
              "</div>\n",
              "    <div class=\"colab-df-buttons\">\n",
              "\n",
              "  <div class=\"colab-df-container\">\n",
              "    <button class=\"colab-df-convert\" onclick=\"convertToInteractive('df-19441a7b-897c-4a5a-a1ad-f04c05495983')\"\n",
              "            title=\"Convert this dataframe to an interactive table.\"\n",
              "            style=\"display:none;\">\n",
              "\n",
              "  <svg xmlns=\"http://www.w3.org/2000/svg\" height=\"24px\" viewBox=\"0 -960 960 960\">\n",
              "    <path d=\"M120-120v-720h720v720H120Zm60-500h600v-160H180v160Zm220 220h160v-160H400v160Zm0 220h160v-160H400v160ZM180-400h160v-160H180v160Zm440 0h160v-160H620v160ZM180-180h160v-160H180v160Zm440 0h160v-160H620v160Z\"/>\n",
              "  </svg>\n",
              "    </button>\n",
              "\n",
              "  <style>\n",
              "    .colab-df-container {\n",
              "      display:flex;\n",
              "      gap: 12px;\n",
              "    }\n",
              "\n",
              "    .colab-df-convert {\n",
              "      background-color: #E8F0FE;\n",
              "      border: none;\n",
              "      border-radius: 50%;\n",
              "      cursor: pointer;\n",
              "      display: none;\n",
              "      fill: #1967D2;\n",
              "      height: 32px;\n",
              "      padding: 0 0 0 0;\n",
              "      width: 32px;\n",
              "    }\n",
              "\n",
              "    .colab-df-convert:hover {\n",
              "      background-color: #E2EBFA;\n",
              "      box-shadow: 0px 1px 2px rgba(60, 64, 67, 0.3), 0px 1px 3px 1px rgba(60, 64, 67, 0.15);\n",
              "      fill: #174EA6;\n",
              "    }\n",
              "\n",
              "    .colab-df-buttons div {\n",
              "      margin-bottom: 4px;\n",
              "    }\n",
              "\n",
              "    [theme=dark] .colab-df-convert {\n",
              "      background-color: #3B4455;\n",
              "      fill: #D2E3FC;\n",
              "    }\n",
              "\n",
              "    [theme=dark] .colab-df-convert:hover {\n",
              "      background-color: #434B5C;\n",
              "      box-shadow: 0px 1px 3px 1px rgba(0, 0, 0, 0.15);\n",
              "      filter: drop-shadow(0px 1px 2px rgba(0, 0, 0, 0.3));\n",
              "      fill: #FFFFFF;\n",
              "    }\n",
              "  </style>\n",
              "\n",
              "    <script>\n",
              "      const buttonEl =\n",
              "        document.querySelector('#df-19441a7b-897c-4a5a-a1ad-f04c05495983 button.colab-df-convert');\n",
              "      buttonEl.style.display =\n",
              "        google.colab.kernel.accessAllowed ? 'block' : 'none';\n",
              "\n",
              "      async function convertToInteractive(key) {\n",
              "        const element = document.querySelector('#df-19441a7b-897c-4a5a-a1ad-f04c05495983');\n",
              "        const dataTable =\n",
              "          await google.colab.kernel.invokeFunction('convertToInteractive',\n",
              "                                                    [key], {});\n",
              "        if (!dataTable) return;\n",
              "\n",
              "        const docLinkHtml = 'Like what you see? Visit the ' +\n",
              "          '<a target=\"_blank\" href=https://colab.research.google.com/notebooks/data_table.ipynb>data table notebook</a>'\n",
              "          + ' to learn more about interactive tables.';\n",
              "        element.innerHTML = '';\n",
              "        dataTable['output_type'] = 'display_data';\n",
              "        await google.colab.output.renderOutput(dataTable, element);\n",
              "        const docLink = document.createElement('div');\n",
              "        docLink.innerHTML = docLinkHtml;\n",
              "        element.appendChild(docLink);\n",
              "      }\n",
              "    </script>\n",
              "  </div>\n",
              "\n",
              "\n",
              "<div id=\"df-0847d357-584b-4ce0-8e9a-5ebb91a29a07\">\n",
              "  <button class=\"colab-df-quickchart\" onclick=\"quickchart('df-0847d357-584b-4ce0-8e9a-5ebb91a29a07')\"\n",
              "            title=\"Suggest charts\"\n",
              "            style=\"display:none;\">\n",
              "\n",
              "<svg xmlns=\"http://www.w3.org/2000/svg\" height=\"24px\"viewBox=\"0 0 24 24\"\n",
              "     width=\"24px\">\n",
              "    <g>\n",
              "        <path d=\"M19 3H5c-1.1 0-2 .9-2 2v14c0 1.1.9 2 2 2h14c1.1 0 2-.9 2-2V5c0-1.1-.9-2-2-2zM9 17H7v-7h2v7zm4 0h-2V7h2v10zm4 0h-2v-4h2v4z\"/>\n",
              "    </g>\n",
              "</svg>\n",
              "  </button>\n",
              "\n",
              "<style>\n",
              "  .colab-df-quickchart {\n",
              "      --bg-color: #E8F0FE;\n",
              "      --fill-color: #1967D2;\n",
              "      --hover-bg-color: #E2EBFA;\n",
              "      --hover-fill-color: #174EA6;\n",
              "      --disabled-fill-color: #AAA;\n",
              "      --disabled-bg-color: #DDD;\n",
              "  }\n",
              "\n",
              "  [theme=dark] .colab-df-quickchart {\n",
              "      --bg-color: #3B4455;\n",
              "      --fill-color: #D2E3FC;\n",
              "      --hover-bg-color: #434B5C;\n",
              "      --hover-fill-color: #FFFFFF;\n",
              "      --disabled-bg-color: #3B4455;\n",
              "      --disabled-fill-color: #666;\n",
              "  }\n",
              "\n",
              "  .colab-df-quickchart {\n",
              "    background-color: var(--bg-color);\n",
              "    border: none;\n",
              "    border-radius: 50%;\n",
              "    cursor: pointer;\n",
              "    display: none;\n",
              "    fill: var(--fill-color);\n",
              "    height: 32px;\n",
              "    padding: 0;\n",
              "    width: 32px;\n",
              "  }\n",
              "\n",
              "  .colab-df-quickchart:hover {\n",
              "    background-color: var(--hover-bg-color);\n",
              "    box-shadow: 0 1px 2px rgba(60, 64, 67, 0.3), 0 1px 3px 1px rgba(60, 64, 67, 0.15);\n",
              "    fill: var(--button-hover-fill-color);\n",
              "  }\n",
              "\n",
              "  .colab-df-quickchart-complete:disabled,\n",
              "  .colab-df-quickchart-complete:disabled:hover {\n",
              "    background-color: var(--disabled-bg-color);\n",
              "    fill: var(--disabled-fill-color);\n",
              "    box-shadow: none;\n",
              "  }\n",
              "\n",
              "  .colab-df-spinner {\n",
              "    border: 2px solid var(--fill-color);\n",
              "    border-color: transparent;\n",
              "    border-bottom-color: var(--fill-color);\n",
              "    animation:\n",
              "      spin 1s steps(1) infinite;\n",
              "  }\n",
              "\n",
              "  @keyframes spin {\n",
              "    0% {\n",
              "      border-color: transparent;\n",
              "      border-bottom-color: var(--fill-color);\n",
              "      border-left-color: var(--fill-color);\n",
              "    }\n",
              "    20% {\n",
              "      border-color: transparent;\n",
              "      border-left-color: var(--fill-color);\n",
              "      border-top-color: var(--fill-color);\n",
              "    }\n",
              "    30% {\n",
              "      border-color: transparent;\n",
              "      border-left-color: var(--fill-color);\n",
              "      border-top-color: var(--fill-color);\n",
              "      border-right-color: var(--fill-color);\n",
              "    }\n",
              "    40% {\n",
              "      border-color: transparent;\n",
              "      border-right-color: var(--fill-color);\n",
              "      border-top-color: var(--fill-color);\n",
              "    }\n",
              "    60% {\n",
              "      border-color: transparent;\n",
              "      border-right-color: var(--fill-color);\n",
              "    }\n",
              "    80% {\n",
              "      border-color: transparent;\n",
              "      border-right-color: var(--fill-color);\n",
              "      border-bottom-color: var(--fill-color);\n",
              "    }\n",
              "    90% {\n",
              "      border-color: transparent;\n",
              "      border-bottom-color: var(--fill-color);\n",
              "    }\n",
              "  }\n",
              "</style>\n",
              "\n",
              "  <script>\n",
              "    async function quickchart(key) {\n",
              "      const quickchartButtonEl =\n",
              "        document.querySelector('#' + key + ' button');\n",
              "      quickchartButtonEl.disabled = true;  // To prevent multiple clicks.\n",
              "      quickchartButtonEl.classList.add('colab-df-spinner');\n",
              "      try {\n",
              "        const charts = await google.colab.kernel.invokeFunction(\n",
              "            'suggestCharts', [key], {});\n",
              "      } catch (error) {\n",
              "        console.error('Error during call to suggestCharts:', error);\n",
              "      }\n",
              "      quickchartButtonEl.classList.remove('colab-df-spinner');\n",
              "      quickchartButtonEl.classList.add('colab-df-quickchart-complete');\n",
              "    }\n",
              "    (() => {\n",
              "      let quickchartButtonEl =\n",
              "        document.querySelector('#df-0847d357-584b-4ce0-8e9a-5ebb91a29a07 button');\n",
              "      quickchartButtonEl.style.display =\n",
              "        google.colab.kernel.accessAllowed ? 'block' : 'none';\n",
              "    })();\n",
              "  </script>\n",
              "</div>\n",
              "\n",
              "    </div>\n",
              "  </div>\n"
            ],
            "application/vnd.google.colaboratory.intrinsic+json": {
              "type": "dataframe",
              "summary": "{\n  \"name\": \"df\",\n  \"rows\": 8,\n  \"fields\": [\n    {\n      \"column\": \"Reward Amount\",\n      \"properties\": {\n        \"dtype\": \"number\",\n        \"std\": 1027.903621675074,\n        \"min\": 50.0,\n        \"max\": 2521.0,\n        \"num_unique_values\": 6,\n        \"samples\": [\n          2521.0,\n          1081.2614042046807,\n          2500.0\n        ],\n        \"semantic_type\": \"\",\n        \"description\": \"\"\n      }\n    },\n    {\n      \"column\": \"Skill Points Earned\",\n      \"properties\": {\n        \"dtype\": \"number\",\n        \"std\": 768.314439432605,\n        \"min\": 10.0,\n        \"max\": 2521.0,\n        \"num_unique_values\": 6,\n        \"samples\": [\n          2521.0,\n          1186.9646965489885,\n          1776.0\n        ],\n        \"semantic_type\": \"\",\n        \"description\": \"\"\n      }\n    }\n  ]\n}"
            }
          },
          "metadata": {},
          "execution_count": 51
        }
      ]
    },
    {
      "cell_type": "code",
      "execution_count": 52,
      "metadata": {
        "colab": {
          "base_uri": "https://localhost:8080/",
          "height": 0
        },
        "id": "nTCb5yAHedDj",
        "outputId": "bbaa170c-c3de-471a-e974-743a868aae8e"
      },
      "outputs": [
        {
          "output_type": "execute_result",
          "data": {
            "text/plain": [
              "0"
            ]
          },
          "metadata": {},
          "execution_count": 52
        }
      ],
      "source": [
        "#Let's check the dataset for duplicates. There are no duplicates\n",
        "df.duplicated().sum()"
      ]
    },
    {
      "cell_type": "code",
      "source": [
        "#Now let's check the number of NaN in each column.\n",
        "df.isna().sum()"
      ],
      "metadata": {
        "colab": {
          "base_uri": "https://localhost:8080/",
          "height": 0
        },
        "id": "MZQf_CzSU2jt",
        "outputId": "7301361c-c2f8-4e3c-a507-5c75653399c4"
      },
      "execution_count": 53,
      "outputs": [
        {
          "output_type": "execute_result",
          "data": {
            "text/plain": [
              "Profile Id                      0\n",
              "Opportunity Id                  0\n",
              "Opportunity Name                0\n",
              "Opportunity Category            0\n",
              "Opportunity End Date            0\n",
              "Gender                          1\n",
              "City                            1\n",
              "State                          14\n",
              "Country                         0\n",
              "Zip Code                       13\n",
              "Graduation Date(YYYY MM)        1\n",
              "Current Student Status          1\n",
              "Current/Intended Major         44\n",
              "Status Description              0\n",
              "Apply Date                      0\n",
              "Opportunity Start Date        804\n",
              "Reward Amount               17801\n",
              "Badge Id                    17801\n",
              "Badge Name                  17801\n",
              "Skill Points Earned         17801\n",
              "Skills Earned               17801\n",
              "dtype: int64"
            ]
          },
          "metadata": {},
          "execution_count": 53
        }
      ]
    },
    {
      "cell_type": "code",
      "source": [
        "#Now Let's check the number of opportunities available\n",
        "Opp=df['Opportunity Name'].value_counts().head()\n",
        "Opp"
      ],
      "metadata": {
        "colab": {
          "base_uri": "https://localhost:8080/",
          "height": 0
        },
        "id": "M4H_fYkRVRCJ",
        "outputId": "7d25e8eb-087a-4437-a8a9-31e26d965660"
      },
      "execution_count": 54,
      "outputs": [
        {
          "output_type": "execute_result",
          "data": {
            "text/plain": [
              "Opportunity Name\n",
              "Data Visualization               5687\n",
              "Project Management               3908\n",
              "Digital Marketing                2480\n",
              "Health Care Management           1548\n",
              "Innovation & Entrepreneurship    1315\n",
              "Name: count, dtype: int64"
            ]
          },
          "metadata": {},
          "execution_count": 54
        }
      ]
    },
    {
      "cell_type": "code",
      "source": [
        "# Let's visualize the proportion of each opportunity\n",
        "Opp.plot(kind='pie', autopct=lambda p: '{:.1f}%'.format(p))\n",
        "plt.show()"
      ],
      "metadata": {
        "colab": {
          "base_uri": "https://localhost:8080/",
          "height": 406
        },
        "id": "t_Sk13oXqFhr",
        "outputId": "74c71b11-409d-4a19-9634-4119fd4c4dca"
      },
      "execution_count": 56,
      "outputs": [
        {
          "output_type": "display_data",
          "data": {
            "text/plain": [
              "<Figure size 640x480 with 1 Axes>"
            ],
            "image/png": "[encoded data removed]"
          },
          "metadata": {}
        }
      ]
    },
    {
      "cell_type": "code",
      "source": [
        "#Now Let's take a look at the number of participants in each category of students\n",
        "co=df['Current Student Status'].value_counts()\n",
        "co"
      ],
      "metadata": {
        "colab": {
          "base_uri": "https://localhost:8080/",
          "height": 0
        },
        "id": "cTf4HumgVzu-",
        "outputId": "91f74f93-004f-410f-c682-d2447d6bea4c"
      },
      "execution_count": 57,
      "outputs": [
        {
          "output_type": "execute_result",
          "data": {
            "text/plain": [
              "Current Student Status\n",
              "Graduate Program Student    9297\n",
              "Undergraduate Student       7009\n",
              "Not in Education            2862\n",
              "High School Student         1153\n",
              "Name: count, dtype: int64"
            ]
          },
          "metadata": {},
          "execution_count": 57
        }
      ]
    },
    {
      "cell_type": "code",
      "source": [
        "#Let's visualize the proportion of each category of students\n",
        "plt.figure(figsize=(5,5))\n",
        "co.plot(kind='pie', autopct=lambda p: '{:.1f}%'.format(p))\n",
        "plt.show()"
      ],
      "metadata": {
        "colab": {
          "base_uri": "https://localhost:8080/",
          "height": 422
        },
        "id": "Y_Pg-qUWYysr",
        "outputId": "3afe0d62-4b38-410f-c3f9-cf66d2c16fdf"
      },
      "execution_count": 58,
      "outputs": [
        {
          "output_type": "display_data",
          "data": {
            "text/plain": [
              "<Figure size 500x500 with 1 Axes>"
            ],
            "image/png": "[encoded data removed]"
          },
          "metadata": {}
        }
      ]
    },
    {
      "cell_type": "code",
      "source": [
        "#Now Let's take a look at the number of participants from each country\n",
        "#India has the heighest number of participants\n",
        "countr=df['Country'].value_counts()\n",
        "countr"
      ],
      "metadata": {
        "colab": {
          "base_uri": "https://localhost:8080/",
          "height": 0
        },
        "id": "6DIw-IHAqI6y",
        "outputId": "ed1de211-6f84-4bf1-b8a7-9aeba8297717"
      },
      "execution_count": 61,
      "outputs": [
        {
          "output_type": "execute_result",
          "data": {
            "text/plain": [
              "Country\n",
              "India                   9132\n",
              "United States           3856\n",
              "Nigeria                 3351\n",
              "Pakistan                1053\n",
              "Ghana                    898\n",
              "                        ... \n",
              "Virgin Islands, U.S.       1\n",
              "Aruba                      1\n",
              "Norway                     1\n",
              "Burkina Faso               1\n",
              "Senegal                    1\n",
              "Name: count, Length: 108, dtype: int64"
            ]
          },
          "metadata": {},
          "execution_count": 61
        }
      ]
    },
    {
      "cell_type": "code",
      "source": [
        "#Now let's take a look at the gender of all participants\n",
        "gen=df['Gender'].value_counts()\n",
        "gen"
      ],
      "metadata": {
        "colab": {
          "base_uri": "https://localhost:8080/",
          "height": 0
        },
        "id": "jYkKZzrpaaqn",
        "outputId": "67de2130-8232-4c5a-caca-6287fc9ae006"
      },
      "execution_count": 62,
      "outputs": [
        {
          "output_type": "execute_result",
          "data": {
            "text/plain": [
              "Gender\n",
              "Male                     12240\n",
              "Female                    8004\n",
              "Don't want to specify       63\n",
              "Other                       14\n",
              "Name: count, dtype: int64"
            ]
          },
          "metadata": {},
          "execution_count": 62
        }
      ]
    },
    {
      "cell_type": "code",
      "source": [
        "gen.plot(kind='barh')\n",
        "plt.show()"
      ],
      "metadata": {
        "colab": {
          "base_uri": "https://localhost:8080/",
          "height": 430
        },
        "id": "qRutftOWhQz-",
        "outputId": "e3f7ea56-a29d-4d10-ec3b-093fcec379cd"
      },
      "execution_count": 28,
      "outputs": [
        {
          "output_type": "display_data",
          "data": {
            "text/plain": [
              "<Figure size 640x480 with 1 Axes>"
            ],
            "image/png": "[encoded data removed]"
          },
          "metadata": {}
        }
      ]
    },
    {
      "cell_type": "code",
      "source": [
        "#Let's take a look at the opportunity categories participants could choose from\n",
        "cat=df['Opportunity Category'].value_counts()\n",
        "cat\n"
      ],
      "metadata": {
        "colab": {
          "base_uri": "https://localhost:8080/",
          "height": 0
        },
        "id": "k2z1oKSClaGs",
        "outputId": "03540054-506c-4e2f-bef8-18fbf3ec4f57"
      },
      "execution_count": 63,
      "outputs": [
        {
          "output_type": "execute_result",
          "data": {
            "text/plain": [
              "Opportunity Category\n",
              "Internship     15360\n",
              "Event           2007\n",
              "Course          1730\n",
              "Competition     1121\n",
              "Engagement       104\n",
              "Name: count, dtype: int64"
            ]
          },
          "metadata": {},
          "execution_count": 63
        }
      ]
    },
    {
      "cell_type": "code",
      "source": [
        "#Let's visualize the Opportunity Category to see the engagement of participants\n",
        "cat.plot(kind='pie', autopct=lambda p: '{:.1f}%'.format(p))\n",
        "plt.show()"
      ],
      "metadata": {
        "colab": {
          "base_uri": "https://localhost:8080/",
          "height": 406
        },
        "id": "SbiVEq-8l9Cz",
        "outputId": "c0ba0c5a-9dd6-4a27-c61d-1851925f2e99"
      },
      "execution_count": 64,
      "outputs": [
        {
          "output_type": "display_data",
          "data": {
            "text/plain": [
              "<Figure size 640x480 with 1 Axes>"
            ],
            "image/png": "[encoded data removed]"
          },
          "metadata": {}
        }
      ]
    },
    {
      "cell_type": "code",
      "source": [
        "#Now Let's take a look at when participants started their opportunities\n",
        "start=pd.to_datetime(df['Opportunity Start Date']).dt.date\n",
        "start.value_counts()"
      ],
      "metadata": {
        "colab": {
          "base_uri": "https://localhost:8080/",
          "height": 0
        },
        "id": "CW--IlzrmYTo",
        "outputId": "156269d6-2a62-48a2-8669-0b8bcbed184c"
      },
      "execution_count": 65,
      "outputs": [
        {
          "output_type": "execute_result",
          "data": {
            "text/plain": [
              "Opportunity Start Date\n",
              "2023-08-07    2323\n",
              "2024-01-08    2189\n",
              "2023-07-24    1639\n",
              "2023-08-21    1592\n",
              "2023-07-10    1431\n",
              "2022-11-03    1240\n",
              "2023-06-26    1206\n",
              "2023-12-04    1147\n",
              "2023-06-12     584\n",
              "2023-03-20     545\n",
              "2023-05-25     497\n",
              "2023-06-28     352\n",
              "2023-08-29     332\n",
              "2023-03-27     329\n",
              "2023-04-10     327\n",
              "2022-11-14     301\n",
              "2023-10-12     272\n",
              "2023-05-08     269\n",
              "2023-07-17     211\n",
              "2023-08-14     189\n",
              "2023-06-19     186\n",
              "2023-03-16     177\n",
              "2023-05-30     161\n",
              "2023-01-09     157\n",
              "2023-03-13     144\n",
              "2023-04-24     132\n",
              "2023-02-06     119\n",
              "2023-11-20     119\n",
              "2023-12-01     117\n",
              "2023-11-01     116\n",
              "2023-02-20     103\n",
              "2023-01-05      99\n",
              "2023-11-29      98\n",
              "2023-12-19      94\n",
              "2023-09-04      88\n",
              "2023-09-25      86\n",
              "2023-05-20      85\n",
              "2023-01-16      85\n",
              "2022-10-17      81\n",
              "2024-01-26      70\n",
              "2023-04-27      66\n",
              "2023-04-20      53\n",
              "2023-12-05      30\n",
              "2023-06-06      29\n",
              "2022-10-28      22\n",
              "2022-12-05      21\n",
              "2024-05-31       4\n",
              "2022-06-13       1\n",
              "Name: count, dtype: int64"
            ]
          },
          "metadata": {},
          "execution_count": 65
        }
      ]
    },
    {
      "cell_type": "code",
      "source": [
        "#Now let's look at some popular start dates\n",
        "popular_dates=start.value_counts().head()\n",
        "plt.figure(figsize=(5,5))\n",
        "popular_dates.plot(kind='bar')\n",
        "plt.xlabel('Dates')\n",
        "plt.ylabel('Number of people that started an Opportunity')\n",
        "plt.show()"
      ],
      "metadata": {
        "colab": {
          "base_uri": "https://localhost:8080/",
          "height": 531
        },
        "id": "I90tK0P-pA3u",
        "outputId": "ba2a1473-6878-498d-dcf3-58f82415576c"
      },
      "execution_count": 66,
      "outputs": [
        {
          "output_type": "display_data",
          "data": {
            "text/plain": [
              "<Figure size 500x500 with 1 Axes>"
            ],
            "image/png": "[encoded data removed]"
          },
          "metadata": {}
        }
      ]
    },
    {
      "cell_type": "code",
      "source": [
        "#Now Let's look at the reward amount and the number of participants than received them\n",
        "reward=df['Reward Amount'].value_counts()\n",
        "reward"
      ],
      "metadata": {
        "colab": {
          "base_uri": "https://localhost:8080/",
          "height": 0
        },
        "id": "xsL4ArXPiB8q",
        "outputId": "a053df25-1959-4640-eb3e-41a4105e06b8"
      },
      "execution_count": 67,
      "outputs": [
        {
          "output_type": "execute_result",
          "data": {
            "text/plain": [
              "Reward Amount\n",
              "500.0     886\n",
              "2500.0    706\n",
              "1000.0    473\n",
              "50.0      305\n",
              "200.0     138\n",
              "80.0        6\n",
              "120.0       4\n",
              "800.0       1\n",
              "100.0       1\n",
              "150.0       1\n",
              "Name: count, dtype: int64"
            ]
          },
          "metadata": {},
          "execution_count": 67
        }
      ]
    },
    {
      "source": [
        "\n",
        "reward.plot(kind='bar', title='Reward Amount')\n",
        "plt.gca().spines[['top', 'right',]].set_visible(True)"
      ],
      "cell_type": "code",
      "metadata": {
        "colab": {
          "base_uri": "https://localhost:8080/",
          "height": 506
        },
        "id": "5_AhgVXthz35",
        "outputId": "4dfb1cc3-0fb9-4af6-bacf-e9a8e4f28c48"
      },
      "execution_count": 33,
      "outputs": [
        {
          "output_type": "display_data",
          "data": {
            "text/plain": [
              "<Figure size 640x480 with 1 Axes>"
            ],
            "image/png": "[encoded data removed]"
          },
          "metadata": {}
        }
      ]
    }
  ],
  "metadata": {
    "colab": {
      "provenance": [],
      "authorship_tag": "ABX9TyOP8/Xj2jVNsAbLaMBMoB3A",
      "include_colab_link": true
    },
    "kernelspec": {
      "display_name": "Python 3",
      "name": "python3"
    },
    "language_info": {
      "name": "python"
    }
  },
  "nbformat": 4,
  "nbformat_minor": 0
}