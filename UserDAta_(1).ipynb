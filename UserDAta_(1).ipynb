{
  "nbformat": 4,
  "nbformat_minor": 0,
  "metadata": {
    "colab": {
      "provenance": [],
      "include_colab_link": true
    },
    "kernelspec": {
      "name": "python3",
      "display_name": "Python 3"
    },
    "language_info": {
      "name": "python"
    }
  },
  "cells": [
    {
      "cell_type": "markdown",
      "metadata": {
        "id": "view-in-github",
        "colab_type": "text"
      },
      "source": [
        "<a href=\"https://colab.research.google.com/github/CODE-RULES/ATM/blob/main/UserDAta_(1).ipynb\" target=\"_parent\"><img src=\"https://colab.research.google.com/assets/colab-badge.svg\" alt=\"Open In Colab\"/></a>"
      ]
    },
    {
      "cell_type": "markdown",
      "source": [
        "# This line of code is used to load the libraries we will be using in this **EDA**"
      ],
      "metadata": {
        "id": "7kzO91v9D2D9"
      }
    },
    {
      "cell_type": "code",
      "execution_count": 62,
      "metadata": {
        "id": "XBDxPshAQWLk"
      },
      "outputs": [],
      "source": [
        "import pandas as pd\n",
        "import numpy as np\n",
        "import matplotlib.pyplot as plt\n",
        "import warnings\n",
        "warnings.filterwarnings('ignore')"
      ]
    },
    {
      "cell_type": "code",
      "source": [
        "#This line of code is used to load the user CSV file\n",
        "data=pd.read_csv('/content/UserData (2).csv')"
      ],
      "metadata": {
        "id": "FUqsWi69Q0P2"
      },
      "execution_count": 63,
      "outputs": []
    },
    {
      "cell_type": "code",
      "source": [
        "#Let's check the shape of the data\n",
        "data.shape"
      ],
      "metadata": {
        "colab": {
          "base_uri": "https://localhost:8080/",
          "height": 0
        },
        "id": "qKCFDtcwJB3X",
        "outputId": "c99f7379-3c51-4ecc-f091-fbd18985fab9"
      },
      "execution_count": 64,
      "outputs": [
        {
          "output_type": "execute_result",
          "data": {
            "text/plain": [
              "(27562, 8)"
            ]
          },
          "metadata": {},
          "execution_count": 64
        }
      ]
    },
    {
      "cell_type": "code",
      "source": [
        "#Let's check the columns with missing values\n",
        "data.isna().sum()"
      ],
      "metadata": {
        "colab": {
          "base_uri": "https://localhost:8080/",
          "height": 0
        },
        "id": "GpICU968UlNB",
        "outputId": "5d4957db-e676-4c2b-e4e8-fcda1ef993dc"
      },
      "execution_count": 65,
      "outputs": [
        {
          "output_type": "execute_result",
          "data": {
            "text/plain": [
              "PreferredSponsors        0\n",
              "Gender                9535\n",
              "Country                 62\n",
              "Degree               10812\n",
              "Sign Up Date             0\n",
              "city                  9534\n",
              "zip                   9544\n",
              "isFromSocialMedia        9\n",
              "dtype: int64"
            ]
          },
          "metadata": {},
          "execution_count": 65
        }
      ]
    },
    {
      "cell_type": "code",
      "source": [
        "#Since we have a lot of missing values, it will be ideal to drop some of the data\n",
        "#Here it will be drop columns that contains 4 or more NaN\n",
        "ndata= data.dropna(thresh=len(data.columns) - 4)"
      ],
      "metadata": {
        "id": "s6Tup5ttIVbB"
      },
      "execution_count": 66,
      "outputs": []
    },
    {
      "cell_type": "code",
      "source": [
        "#Let's check for lost data. We lost minimal amount of data\n",
        "ndata.isna().sum()"
      ],
      "metadata": {
        "colab": {
          "base_uri": "https://localhost:8080/",
          "height": 0
        },
        "id": "7dX8l6HKV7w-",
        "outputId": "50a6d897-8ade-456f-a9e0-77dadd22dfa3"
      },
      "execution_count": 67,
      "outputs": [
        {
          "output_type": "execute_result",
          "data": {
            "text/plain": [
              "PreferredSponsors        0\n",
              "Gender                9468\n",
              "Country                  0\n",
              "Degree               10745\n",
              "Sign Up Date             0\n",
              "city                  9467\n",
              "zip                   9477\n",
              "isFromSocialMedia        4\n",
              "dtype: int64"
            ]
          },
          "metadata": {},
          "execution_count": 67
        }
      ]
    },
    {
      "cell_type": "code",
      "source": [
        "ndata.head()"
      ],
      "metadata": {
        "colab": {
          "base_uri": "https://localhost:8080/",
          "height": 293
        },
        "id": "EaQCqbruI9WK",
        "outputId": "f4b429eb-b5a1-4a88-9630-f396ad968c91"
      },
      "execution_count": 68,
      "outputs": [
        {
          "output_type": "execute_result",
          "data": {
            "text/plain": [
              "                                   PreferredSponsors  Gender  Country  \\\n",
              "0  [\"GlobalShala\",\"Grant Thornton China\",\"Saint L...    Male  Nigeria   \n",
              "1  [\"GlobalShala\",\"Grant Thornton China\",\"Saint L...    Male    India   \n",
              "2  [\"GlobalShala\",\"Illinois Institute of Technolo...     NaN    India   \n",
              "3  [\"GlobalShala\",\"Grant Thornton China\",\"Saint L...     NaN  Albania   \n",
              "4  [\"GlobalShala\",\"Grant Thornton China\",\"Saint L...  Female    Ghana   \n",
              "\n",
              "                  Degree              Sign Up Date      city           zip  \\\n",
              "0  Undergraduate Student  2023-07-23T08:05:58.602Z    Owerri        460103   \n",
              "1  Undergraduate Student  2023-04-24T09:57:07.405Z  kottayam        686501   \n",
              "2                    NaN  2022-10-14T17:13:36.303Z       NaN           NaN   \n",
              "3                    NaN  2023-06-06T12:29:01.772Z       NaN           NaN   \n",
              "4       Not in Education  2023-06-15T16:31:42.719Z    Kumasi  AT-1214-9090   \n",
              "\n",
              "  isFromSocialMedia  \n",
              "0             False  \n",
              "1             False  \n",
              "2             False  \n",
              "3              True  \n",
              "4             False  "
            ],
            "text/html": [
              "\n",
              "  <div id=\"df-73492157-6b7e-45ae-b6f7-4ea37d9155c6\" class=\"colab-df-container\">\n",
              "    <div>\n",
              "<style scoped>\n",
              "    .dataframe tbody tr th:only-of-type {\n",
              "        vertical-align: middle;\n",
              "    }\n",
              "\n",
              "    .dataframe tbody tr th {\n",
              "        vertical-align: top;\n",
              "    }\n",
              "\n",
              "    .dataframe thead th {\n",
              "        text-align: right;\n",
              "    }\n",
              "</style>\n",
              "<table border=\"1\" class=\"dataframe\">\n",
              "  <thead>\n",
              "    <tr style=\"text-align: right;\">\n",
              "      <th></th>\n",
              "      <th>PreferredSponsors</th>\n",
              "      <th>Gender</th>\n",
              "      <th>Country</th>\n",
              "      <th>Degree</th>\n",
              "      <th>Sign Up Date</th>\n",
              "      <th>city</th>\n",
              "      <th>zip</th>\n",
              "      <th>isFromSocialMedia</th>\n",
              "    </tr>\n",
              "  </thead>\n",
              "  <tbody>\n",
              "    <tr>\n",
              "      <th>0</th>\n",
              "      <td>[\"GlobalShala\",\"Grant Thornton China\",\"Saint L...</td>\n",
              "      <td>Male</td>\n",
              "      <td>Nigeria</td>\n",
              "      <td>Undergraduate Student</td>\n",
              "      <td>2023-07-23T08:05:58.602Z</td>\n",
              "      <td>Owerri</td>\n",
              "      <td>460103</td>\n",
              "      <td>False</td>\n",
              "    </tr>\n",
              "    <tr>\n",
              "      <th>1</th>\n",
              "      <td>[\"GlobalShala\",\"Grant Thornton China\",\"Saint L...</td>\n",
              "      <td>Male</td>\n",
              "      <td>India</td>\n",
              "      <td>Undergraduate Student</td>\n",
              "      <td>2023-04-24T09:57:07.405Z</td>\n",
              "      <td>kottayam</td>\n",
              "      <td>686501</td>\n",
              "      <td>False</td>\n",
              "    </tr>\n",
              "    <tr>\n",
              "      <th>2</th>\n",
              "      <td>[\"GlobalShala\",\"Illinois Institute of Technolo...</td>\n",
              "      <td>NaN</td>\n",
              "      <td>India</td>\n",
              "      <td>NaN</td>\n",
              "      <td>2022-10-14T17:13:36.303Z</td>\n",
              "      <td>NaN</td>\n",
              "      <td>NaN</td>\n",
              "      <td>False</td>\n",
              "    </tr>\n",
              "    <tr>\n",
              "      <th>3</th>\n",
              "      <td>[\"GlobalShala\",\"Grant Thornton China\",\"Saint L...</td>\n",
              "      <td>NaN</td>\n",
              "      <td>Albania</td>\n",
              "      <td>NaN</td>\n",
              "      <td>2023-06-06T12:29:01.772Z</td>\n",
              "      <td>NaN</td>\n",
              "      <td>NaN</td>\n",
              "      <td>True</td>\n",
              "    </tr>\n",
              "    <tr>\n",
              "      <th>4</th>\n",
              "      <td>[\"GlobalShala\",\"Grant Thornton China\",\"Saint L...</td>\n",
              "      <td>Female</td>\n",
              "      <td>Ghana</td>\n",
              "      <td>Not in Education</td>\n",
              "      <td>2023-06-15T16:31:42.719Z</td>\n",
              "      <td>Kumasi</td>\n",
              "      <td>AT-1214-9090</td>\n",
              "      <td>False</td>\n",
              "    </tr>\n",
              "  </tbody>\n",
              "</table>\n",
              "</div>\n",
              "    <div class=\"colab-df-buttons\">\n",
              "\n",
              "  <div class=\"colab-df-container\">\n",
              "    <button class=\"colab-df-convert\" onclick=\"convertToInteractive('df-73492157-6b7e-45ae-b6f7-4ea37d9155c6')\"\n",
              "            title=\"Convert this dataframe to an interactive table.\"\n",
              "            style=\"display:none;\">\n",
              "\n",
              "  <svg xmlns=\"http://www.w3.org/2000/svg\" height=\"24px\" viewBox=\"0 -960 960 960\">\n",
              "    <path d=\"M120-120v-720h720v720H120Zm60-500h600v-160H180v160Zm220 220h160v-160H400v160Zm0 220h160v-160H400v160ZM180-400h160v-160H180v160Zm440 0h160v-160H620v160ZM180-180h160v-160H180v160Zm440 0h160v-160H620v160Z\"/>\n",
              "  </svg>\n",
              "    </button>\n",
              "\n",
              "  <style>\n",
              "    .colab-df-container {\n",
              "      display:flex;\n",
              "      gap: 12px;\n",
              "    }\n",
              "\n",
              "    .colab-df-convert {\n",
              "      background-color: #E8F0FE;\n",
              "      border: none;\n",
              "      border-radius: 50%;\n",
              "      cursor: pointer;\n",
              "      display: none;\n",
              "      fill: #1967D2;\n",
              "      height: 32px;\n",
              "      padding: 0 0 0 0;\n",
              "      width: 32px;\n",
              "    }\n",
              "\n",
              "    .colab-df-convert:hover {\n",
              "      background-color: #E2EBFA;\n",
              "      box-shadow: 0px 1px 2px rgba(60, 64, 67, 0.3), 0px 1px 3px 1px rgba(60, 64, 67, 0.15);\n",
              "      fill: #174EA6;\n",
              "    }\n",
              "\n",
              "    .colab-df-buttons div {\n",
              "      margin-bottom: 4px;\n",
              "    }\n",
              "\n",
              "    [theme=dark] .colab-df-convert {\n",
              "      background-color: #3B4455;\n",
              "      fill: #D2E3FC;\n",
              "    }\n",
              "\n",
              "    [theme=dark] .colab-df-convert:hover {\n",
              "      background-color: #434B5C;\n",
              "      box-shadow: 0px 1px 3px 1px rgba(0, 0, 0, 0.15);\n",
              "      filter: drop-shadow(0px 1px 2px rgba(0, 0, 0, 0.3));\n",
              "      fill: #FFFFFF;\n",
              "    }\n",
              "  </style>\n",
              "\n",
              "    <script>\n",
              "      const buttonEl =\n",
              "        document.querySelector('#df-73492157-6b7e-45ae-b6f7-4ea37d9155c6 button.colab-df-convert');\n",
              "      buttonEl.style.display =\n",
              "        google.colab.kernel.accessAllowed ? 'block' : 'none';\n",
              "\n",
              "      async function convertToInteractive(key) {\n",
              "        const element = document.querySelector('#df-73492157-6b7e-45ae-b6f7-4ea37d9155c6');\n",
              "        const dataTable =\n",
              "          await google.colab.kernel.invokeFunction('convertToInteractive',\n",
              "                                                    [key], {});\n",
              "        if (!dataTable) return;\n",
              "\n",
              "        const docLinkHtml = 'Like what you see? Visit the ' +\n",
              "          '<a target=\"_blank\" href=https://colab.research.google.com/notebooks/data_table.ipynb>data table notebook</a>'\n",
              "          + ' to learn more about interactive tables.';\n",
              "        element.innerHTML = '';\n",
              "        dataTable['output_type'] = 'display_data';\n",
              "        await google.colab.output.renderOutput(dataTable, element);\n",
              "        const docLink = document.createElement('div');\n",
              "        docLink.innerHTML = docLinkHtml;\n",
              "        element.appendChild(docLink);\n",
              "      }\n",
              "    </script>\n",
              "  </div>\n",
              "\n",
              "\n",
              "<div id=\"df-da8ed556-9bf9-47e1-bc6b-c59c5a544203\">\n",
              "  <button class=\"colab-df-quickchart\" onclick=\"quickchart('df-da8ed556-9bf9-47e1-bc6b-c59c5a544203')\"\n",
              "            title=\"Suggest charts\"\n",
              "            style=\"display:none;\">\n",
              "\n",
              "<svg xmlns=\"http://www.w3.org/2000/svg\" height=\"24px\"viewBox=\"0 0 24 24\"\n",
              "     width=\"24px\">\n",
              "    <g>\n",
              "        <path d=\"M19 3H5c-1.1 0-2 .9-2 2v14c0 1.1.9 2 2 2h14c1.1 0 2-.9 2-2V5c0-1.1-.9-2-2-2zM9 17H7v-7h2v7zm4 0h-2V7h2v10zm4 0h-2v-4h2v4z\"/>\n",
              "    </g>\n",
              "</svg>\n",
              "  </button>\n",
              "\n",
              "<style>\n",
              "  .colab-df-quickchart {\n",
              "      --bg-color: #E8F0FE;\n",
              "      --fill-color: #1967D2;\n",
              "      --hover-bg-color: #E2EBFA;\n",
              "      --hover-fill-color: #174EA6;\n",
              "      --disabled-fill-color: #AAA;\n",
              "      --disabled-bg-color: #DDD;\n",
              "  }\n",
              "\n",
              "  [theme=dark] .colab-df-quickchart {\n",
              "      --bg-color: #3B4455;\n",
              "      --fill-color: #D2E3FC;\n",
              "      --hover-bg-color: #434B5C;\n",
              "      --hover-fill-color: #FFFFFF;\n",
              "      --disabled-bg-color: #3B4455;\n",
              "      --disabled-fill-color: #666;\n",
              "  }\n",
              "\n",
              "  .colab-df-quickchart {\n",
              "    background-color: var(--bg-color);\n",
              "    border: none;\n",
              "    border-radius: 50%;\n",
              "    cursor: pointer;\n",
              "    display: none;\n",
              "    fill: var(--fill-color);\n",
              "    height: 32px;\n",
              "    padding: 0;\n",
              "    width: 32px;\n",
              "  }\n",
              "\n",
              "  .colab-df-quickchart:hover {\n",
              "    background-color: var(--hover-bg-color);\n",
              "    box-shadow: 0 1px 2px rgba(60, 64, 67, 0.3), 0 1px 3px 1px rgba(60, 64, 67, 0.15);\n",
              "    fill: var(--button-hover-fill-color);\n",
              "  }\n",
              "\n",
              "  .colab-df-quickchart-complete:disabled,\n",
              "  .colab-df-quickchart-complete:disabled:hover {\n",
              "    background-color: var(--disabled-bg-color);\n",
              "    fill: var(--disabled-fill-color);\n",
              "    box-shadow: none;\n",
              "  }\n",
              "\n",
              "  .colab-df-spinner {\n",
              "    border: 2px solid var(--fill-color);\n",
              "    border-color: transparent;\n",
              "    border-bottom-color: var(--fill-color);\n",
              "    animation:\n",
              "      spin 1s steps(1) infinite;\n",
              "  }\n",
              "\n",
              "  @keyframes spin {\n",
              "    0% {\n",
              "      border-color: transparent;\n",
              "      border-bottom-color: var(--fill-color);\n",
              "      border-left-color: var(--fill-color);\n",
              "    }\n",
              "    20% {\n",
              "      border-color: transparent;\n",
              "      border-left-color: var(--fill-color);\n",
              "      border-top-color: var(--fill-color);\n",
              "    }\n",
              "    30% {\n",
              "      border-color: transparent;\n",
              "      border-left-color: var(--fill-color);\n",
              "      border-top-color: var(--fill-color);\n",
              "      border-right-color: var(--fill-color);\n",
              "    }\n",
              "    40% {\n",
              "      border-color: transparent;\n",
              "      border-right-color: var(--fill-color);\n",
              "      border-top-color: var(--fill-color);\n",
              "    }\n",
              "    60% {\n",
              "      border-color: transparent;\n",
              "      border-right-color: var(--fill-color);\n",
              "    }\n",
              "    80% {\n",
              "      border-color: transparent;\n",
              "      border-right-color: var(--fill-color);\n",
              "      border-bottom-color: var(--fill-color);\n",
              "    }\n",
              "    90% {\n",
              "      border-color: transparent;\n",
              "      border-bottom-color: var(--fill-color);\n",
              "    }\n",
              "  }\n",
              "</style>\n",
              "\n",
              "  <script>\n",
              "    async function quickchart(key) {\n",
              "      const quickchartButtonEl =\n",
              "        document.querySelector('#' + key + ' button');\n",
              "      quickchartButtonEl.disabled = true;  // To prevent multiple clicks.\n",
              "      quickchartButtonEl.classList.add('colab-df-spinner');\n",
              "      try {\n",
              "        const charts = await google.colab.kernel.invokeFunction(\n",
              "            'suggestCharts', [key], {});\n",
              "      } catch (error) {\n",
              "        console.error('Error during call to suggestCharts:', error);\n",
              "      }\n",
              "      quickchartButtonEl.classList.remove('colab-df-spinner');\n",
              "      quickchartButtonEl.classList.add('colab-df-quickchart-complete');\n",
              "    }\n",
              "    (() => {\n",
              "      let quickchartButtonEl =\n",
              "        document.querySelector('#df-da8ed556-9bf9-47e1-bc6b-c59c5a544203 button');\n",
              "      quickchartButtonEl.style.display =\n",
              "        google.colab.kernel.accessAllowed ? 'block' : 'none';\n",
              "    })();\n",
              "  </script>\n",
              "</div>\n",
              "    </div>\n",
              "  </div>\n"
            ],
            "application/vnd.google.colaboratory.intrinsic+json": {
              "type": "dataframe",
              "variable_name": "ndata",
              "summary": "{\n  \"name\": \"ndata\",\n  \"rows\": 27495,\n  \"fields\": [\n    {\n      \"column\": \"PreferredSponsors\",\n      \"properties\": {\n        \"dtype\": \"category\",\n        \"num_unique_values\": 94,\n        \"samples\": [\n          \"[\\\"Grant Thornton China\\\",\\\"Excelerate\\\",\\\"Illinois Institute of Technology\\\",\\\"GlobalShala\\\",\\\"Saint Louis University\\\"]\",\n          \"[\\\"GlobalShala\\\",\\\"Saint Louis University\\\",\\\"Grant Thornton China\\\",\\\"Excelerate\\\"]\",\n          \"[\\\"Saint Louis University\\\",\\\"Excelerate\\\",\\\"GlobalShala\\\",\\\"Illinois Institute of Technology\\\"]\"\n        ],\n        \"semantic_type\": \"\",\n        \"description\": \"\"\n      }\n    },\n    {\n      \"column\": \"Gender\",\n      \"properties\": {\n        \"dtype\": \"category\",\n        \"num_unique_values\": 4,\n        \"samples\": [\n          \"Female\",\n          \"Don't want to specify\",\n          \"Male\"\n        ],\n        \"semantic_type\": \"\",\n        \"description\": \"\"\n      }\n    },\n    {\n      \"column\": \"Country\",\n      \"properties\": {\n        \"dtype\": \"category\",\n        \"num_unique_values\": 169,\n        \"samples\": [\n          \"Puerto Rico\",\n          \"France\",\n          \"Sudan\"\n        ],\n        \"semantic_type\": \"\",\n        \"description\": \"\"\n      }\n    },\n    {\n      \"column\": \"Degree\",\n      \"properties\": {\n        \"dtype\": \"category\",\n        \"num_unique_values\": 4,\n        \"samples\": [\n          \"Not in Education\",\n          \"Graduate Program Student\",\n          \"Undergraduate Student\"\n        ],\n        \"semantic_type\": \"\",\n        \"description\": \"\"\n      }\n    },\n    {\n      \"column\": \"Sign Up Date\",\n      \"properties\": {\n        \"dtype\": \"object\",\n        \"num_unique_values\": 27494,\n        \"samples\": [\n          \"2023-08-21T17:32:56.009Z\",\n          \"2023-03-13T16:56:32.507Z\",\n          \"2023-06-16T04:31:26.097Z\"\n        ],\n        \"semantic_type\": \"\",\n        \"description\": \"\"\n      }\n    },\n    {\n      \"column\": \"city\",\n      \"properties\": {\n        \"dtype\": \"category\",\n        \"num_unique_values\": 4727,\n        \"samples\": [\n          \"Kushtia\",\n          \"Mau\",\n          \"GRA\"\n        ],\n        \"semantic_type\": \"\",\n        \"description\": \"\"\n      }\n    },\n    {\n      \"column\": \"zip\",\n      \"properties\": {\n        \"dtype\": \"category\",\n        \"num_unique_values\": 7453,\n        \"samples\": [\n          \"803111\",\n          \"710\",\n          \"516083\"\n        ],\n        \"semantic_type\": \"\",\n        \"description\": \"\"\n      }\n    },\n    {\n      \"column\": \"isFromSocialMedia\",\n      \"properties\": {\n        \"dtype\": \"category\",\n        \"num_unique_values\": 2,\n        \"samples\": [\n          true,\n          false\n        ],\n        \"semantic_type\": \"\",\n        \"description\": \"\"\n      }\n    }\n  ]\n}"
            }
          },
          "metadata": {},
          "execution_count": 68
        }
      ]
    },
    {
      "cell_type": "code",
      "source": [
        " #Let's replace all the missing data in each column with the entries of that columns based\n",
        " #on their proportion\n",
        " # To calculate the proportion of each unique value, we perform the operation below\n",
        "prop = ndata['Degree'].value_counts(normalize=True)\n",
        "\n",
        "# Function to fill NaN values based on these proportions\n",
        "def fill_na_proportionally(series, prop):\n",
        "    # Get the indices of NaN values\n",
        "    nan_indices = series[series.isna()].index\n",
        "\n",
        "    # Generate random samples based on proportions\n",
        "    fill_values = np.random.choice(prop.index, size=len(nan_indices), p=prop.values)\n",
        "\n",
        "    # Replace NaN values with the generated samples\n",
        "    series.loc[nan_indices] = fill_values\n",
        "    return series\n",
        "\n",
        "# Fill NaN values in the 'Degree' column\n",
        "ndata['Degree'] = fill_na_proportionally(ndata['Degree'], prop)"
      ],
      "metadata": {
        "id": "dJzqIRtoP3TP"
      },
      "execution_count": 72,
      "outputs": []
    },
    {
      "cell_type": "code",
      "source": [
        "prop = ndata['Gender'].value_counts(normalize=True)\n",
        "\n",
        "# Function to fill NaN values based on these proportions\n",
        "def fill_na_proportionally(series, prop):\n",
        "    # Get the indices of NaN values\n",
        "    nan_indices = series[series.isna()].index\n",
        "\n",
        "    # Generate random samples based on proportions\n",
        "    fill_values = np.random.choice(prop.index, size=len(nan_indices), p=prop.values)\n",
        "\n",
        "    # Replace NaN values with the generated samples\n",
        "    series.loc[nan_indices] = fill_values\n",
        "    return series\n",
        "\n",
        "# Fill NaN values in the 'Gender' column\n",
        "ndata['Gender'] = fill_na_proportionally(ndata['Gender'], prop)"
      ],
      "metadata": {
        "id": "xxnD_0kVQY6N"
      },
      "execution_count": 75,
      "outputs": []
    },
    {
      "cell_type": "code",
      "source": [
        "#Calculate the proportion of each unique value\n",
        "prop = ndata['city'].value_counts(normalize=True)\n",
        "\n",
        "# Function to fill NaN values based on these proportions\n",
        "def fill_na_proportionally(series, prop):\n",
        "    # Get the indices of NaN values\n",
        "    nan_indices = series[series.isna()].index\n",
        "\n",
        "    # Generate random samples based on proportions\n",
        "    fill_values = np.random.choice(prop.index, size=len(nan_indices), p=prop.values)\n",
        "\n",
        "    # Replace NaN values with the generated samples\n",
        "    series.loc[nan_indices] = fill_values\n",
        "    return series\n",
        "\n",
        "# Fill NaN values in the 'city' column\n",
        "ndata['city'] = fill_na_proportionally(ndata['city'], prop)"
      ],
      "metadata": {
        "id": "A-_lAIdySz9J"
      },
      "execution_count": 77,
      "outputs": []
    },
    {
      "cell_type": "code",
      "source": [
        "prop = ndata['zip'].value_counts(normalize=True)\n",
        "\n",
        "# Function to fill NaN values based on these proportions\n",
        "def fill_na_proportionally(series, prop):\n",
        "    # Get the indices of NaN values\n",
        "    nan_indices = series[series.isna()].index\n",
        "\n",
        "    # Generate random samples based on proportions\n",
        "    fill_values = np.random.choice(prop.index, size=len(nan_indices), p=prop.values)\n",
        "\n",
        "    # Replace NaN values with the generated samples\n",
        "    series.loc[nan_indices] = fill_values\n",
        "    return series\n",
        "\n",
        "# Fill NaN values in the 'zip' column\n",
        "ndata['zip'] = fill_na_proportionally(ndata['zip'], prop)"
      ],
      "metadata": {
        "id": "puri9AG0ZfbO"
      },
      "execution_count": 79,
      "outputs": []
    },
    {
      "cell_type": "markdown",
      "source": [
        "Checking the number of NaN in each column"
      ],
      "metadata": {
        "id": "cR5ySVrhIaBv"
      }
    },
    {
      "cell_type": "code",
      "source": [
        "#Checking the nunber of missing values\n",
        "ndata.isna().sum()"
      ],
      "metadata": {
        "colab": {
          "base_uri": "https://localhost:8080/",
          "height": 0
        },
        "id": "JRywL19eIDak",
        "outputId": "e7eb9297-6cc8-4169-d064-287b366bbc65"
      },
      "execution_count": 82,
      "outputs": [
        {
          "output_type": "execute_result",
          "data": {
            "text/plain": [
              "PreferredSponsors    0\n",
              "Gender               0\n",
              "Country              0\n",
              "Degree               0\n",
              "Sign Up Date         0\n",
              "city                 0\n",
              "zip                  0\n",
              "isFromSocialMedia    4\n",
              "dtype: int64"
            ]
          },
          "metadata": {},
          "execution_count": 82
        }
      ]
    },
    {
      "cell_type": "code",
      "source": [
        "#Since we have just 4 NaN, Let's go ahead and drop it\n",
        "ndata=ndata.dropna()"
      ],
      "metadata": {
        "id": "JNkCcfIxaYoj"
      },
      "execution_count": 84,
      "outputs": []
    },
    {
      "cell_type": "code",
      "source": [
        "ndata.shape"
      ],
      "metadata": {
        "colab": {
          "base_uri": "https://localhost:8080/",
          "height": 0
        },
        "id": "0-AvV9nbbK0C",
        "outputId": "595c7e0d-c5a9-4593-d53c-0e48015e0f00"
      },
      "execution_count": 85,
      "outputs": [
        {
          "output_type": "execute_result",
          "data": {
            "text/plain": [
              "(27491, 8)"
            ]
          },
          "metadata": {},
          "execution_count": 85
        }
      ]
    },
    {
      "cell_type": "code",
      "source": [
        "#Now lets count the reported gender in the dataset\n",
        "Gender=ndata['Gender'].value_counts()\n",
        "Gender"
      ],
      "metadata": {
        "colab": {
          "base_uri": "https://localhost:8080/",
          "height": 0
        },
        "id": "Tz41_UaE-50j",
        "outputId": "db28013b-39a7-41da-db74-adc21dd78a41"
      },
      "execution_count": 86,
      "outputs": [
        {
          "output_type": "execute_result",
          "data": {
            "text/plain": [
              "Gender\n",
              "Male                     16773\n",
              "Female                   10585\n",
              "Don't want to specify      110\n",
              "Other                       23\n",
              "Name: count, dtype: int64"
            ]
          },
          "metadata": {},
          "execution_count": 86
        }
      ]
    },
    {
      "cell_type": "code",
      "source": [
        "#Now lets count the reported Countries in the dataset iclunding the unknown\n",
        "# The code below shows the top 15 countries\n",
        "Country=ndata[\"Country\"].value_counts()\n",
        "Country.head(15)\n",
        "\n",
        "\n"
      ],
      "metadata": {
        "colab": {
          "base_uri": "https://localhost:8080/",
          "height": 0
        },
        "id": "oEliXnfOJCng",
        "outputId": "2d76abb6-d45c-480e-e244-5e69092d6122"
      },
      "execution_count": 87,
      "outputs": [
        {
          "output_type": "execute_result",
          "data": {
            "text/plain": [
              "Country\n",
              "India             11888\n",
              "Nigeria            4357\n",
              "United States      3690\n",
              "Pakistan           1928\n",
              "Ghana              1124\n",
              "Egypt               896\n",
              "Bangladesh          422\n",
              "Kenya               302\n",
              "Vietnam             290\n",
              "Nepal               193\n",
              "Afghanistan         147\n",
              "Ethiopia            123\n",
              "Morocco             107\n",
              "Uganda              101\n",
              "United Kingdom       83\n",
              "Name: count, dtype: int64"
            ]
          },
          "metadata": {},
          "execution_count": 87
        }
      ]
    },
    {
      "cell_type": "code",
      "source": [
        "##Now lets count the reported Degrees in the dataset\n",
        "Degree=ndata['Degree'].value_counts()\n",
        "Degree"
      ],
      "metadata": {
        "colab": {
          "base_uri": "https://localhost:8080/",
          "height": 0
        },
        "id": "-09KLKfuKeOw",
        "outputId": "e9dbe951-9bb6-4451-def4-4b4c2369db81"
      },
      "execution_count": 88,
      "outputs": [
        {
          "output_type": "execute_result",
          "data": {
            "text/plain": [
              "Degree\n",
              "Undergraduate Student       10775\n",
              "Graduate Program Student     9881\n",
              "Not in Education             4291\n",
              "High School Student          2544\n",
              "Name: count, dtype: int64"
            ]
          },
          "metadata": {},
          "execution_count": 88
        }
      ]
    },
    {
      "cell_type": "code",
      "source": [
        "#since we will use this dataset for visualization, it is essential to see what type each column is\n",
        "ndata.dtypes"
      ],
      "metadata": {
        "id": "SV2aqOyNHdtR",
        "outputId": "fc7e1e8a-cf72-4275-d1bc-d478af6594ad",
        "colab": {
          "base_uri": "https://localhost:8080/",
          "height": 0
        }
      },
      "execution_count": 89,
      "outputs": [
        {
          "output_type": "execute_result",
          "data": {
            "text/plain": [
              "PreferredSponsors    object\n",
              "Gender               object\n",
              "Country              object\n",
              "Degree               object\n",
              "Sign Up Date         object\n",
              "city                 object\n",
              "zip                  object\n",
              "isFromSocialMedia    object\n",
              "dtype: object"
            ]
          },
          "metadata": {},
          "execution_count": 89
        }
      ]
    },
    {
      "cell_type": "code",
      "source": [
        "# We can see from the code above that all the columns are type \"Object\"\n",
        "#It is important to change \"Sign Up Date to datetime\" to be able\n",
        "# count the number of registration on each given date\n",
        "ndata['Sign Up Date']=pd.to_datetime(ndata['Sign Up Date'])\n",
        "ndata['Sign Up Date']=ndata['Sign Up Date'].dt.date\n",
        "\n",
        "Sign_up_date=ndata['Sign Up Date'].value_counts()\n",
        "Sign_up_date"
      ],
      "metadata": {
        "id": "CBgQYZJo32Y7",
        "outputId": "597f4a59-5a19-4019-d2f1-c19782e46ef8",
        "colab": {
          "base_uri": "https://localhost:8080/",
          "height": 0
        }
      },
      "execution_count": 100,
      "outputs": [
        {
          "output_type": "execute_result",
          "data": {
            "text/plain": [
              "Sign Up Date\n",
              "2023-06-16    1701\n",
              "2023-06-15    1692\n",
              "2023-06-14     931\n",
              "2023-06-13     863\n",
              "2023-07-06     501\n",
              "              ... \n",
              "2022-08-10       3\n",
              "2023-02-11       2\n",
              "2023-11-15       1\n",
              "2022-05-31       1\n",
              "2022-12-03       1\n",
              "Name: count, Length: 456, dtype: int64"
            ]
          },
          "metadata": {},
          "execution_count": 100
        }
      ]
    },
    {
      "cell_type": "code",
      "source": [
        "# Now let's count reported cities in the dataset\n",
        "City=ndata['city'].value_counts()\n",
        "City"
      ],
      "metadata": {
        "id": "tgPRvew-43iF",
        "outputId": "0eb5659a-1a69-4ae7-8fd4-920381ca6c06",
        "colab": {
          "base_uri": "https://localhost:8080/",
          "height": 0
        }
      },
      "execution_count": 92,
      "outputs": [
        {
          "output_type": "execute_result",
          "data": {
            "text/plain": [
              "city\n",
              "Hyderabad      1099\n",
              "Lagos           694\n",
              "Saint Louis     688\n",
              "Accra           511\n",
              "Chicago         484\n",
              "               ... \n",
              "Kamanzo           1\n",
              "Thiruvalla        1\n",
              "Rukpokwu          1\n",
              "Sakhavaram        1\n",
              "New Lenox         1\n",
              "Name: count, Length: 4727, dtype: int64"
            ]
          },
          "metadata": {},
          "execution_count": 92
        }
      ]
    },
    {
      "cell_type": "code",
      "source": [
        "#Now let's count reported zips in the dataset\n",
        "Zip=ndata['zip'].value_counts()\n",
        "Zip"
      ],
      "metadata": {
        "colab": {
          "base_uri": "https://localhost:8080/",
          "height": 0
        },
        "id": "KtWuHomGKuei",
        "outputId": "6201b21e-2f9d-4734-c8f7-7d58c75fb64e"
      },
      "execution_count": 93,
      "outputs": [
        {
          "output_type": "execute_result",
          "data": {
            "text/plain": [
              "zip\n",
              "63108     977\n",
              "233       685\n",
              "0         445\n",
              "60616     323\n",
              "100001    228\n",
              "         ... \n",
              "N2R0N9      1\n",
              "181201      1\n",
              "621212      1\n",
              "505501      1\n",
              "60451       1\n",
              "Name: count, Length: 7453, dtype: int64"
            ]
          },
          "metadata": {},
          "execution_count": 93
        }
      ]
    },
    {
      "cell_type": "code",
      "source": [
        "#Since isFromSocialMedia is true or false, we need to change it to boolean\n",
        "ndata['isFromSocialMedia']=ndata['isFromSocialMedia'].astype('bool')\n",
        "Is_from_SM=ndata['isFromSocialMedia'].value_counts()\n",
        "Is_from_SM"
      ],
      "metadata": {
        "colab": {
          "base_uri": "https://localhost:8080/",
          "height": 0
        },
        "id": "oBoYsoNSK1Aa",
        "outputId": "2056e041-e419-4d15-95aa-af9d418a9be1"
      },
      "execution_count": 94,
      "outputs": [
        {
          "output_type": "execute_result",
          "data": {
            "text/plain": [
              "isFromSocialMedia\n",
              "True     13811\n",
              "False    13680\n",
              "Name: count, dtype: int64"
            ]
          },
          "metadata": {},
          "execution_count": 94
        }
      ]
    },
    {
      "cell_type": "markdown",
      "source": [
        "Now that we have got the overall overview of the dataset let's visualize it"
      ],
      "metadata": {
        "id": "LekcrzjO8PK5"
      }
    },
    {
      "cell_type": "code",
      "source": [
        "#This code displays a bar chart of each gender\n",
        "plt.figure(figsize=(5,5))\n",
        "Gender.plot(kind='bar')\n",
        "plt.xlabel('Gender')\n",
        "plt.ylabel('Count Reported')"
      ],
      "metadata": {
        "colab": {
          "base_uri": "https://localhost:8080/",
          "height": 616
        },
        "id": "wwSGaO_mPBYZ",
        "outputId": "b2ede6e7-8c5b-4c16-cf22-0207d8cf8b0b"
      },
      "execution_count": 95,
      "outputs": [
        {
          "output_type": "execute_result",
          "data": {
            "text/plain": [
              "Text(0, 0.5, 'Count Reported')"
            ]
          },
          "metadata": {},
          "execution_count": 95
        },
        {
          "output_type": "display_data",
          "data": {
            "text/plain": [
              "<Figure size 500x500 with 1 Axes>"
            ],
            "image/png": "[encoded data removed]"
          },
          "metadata": {}
        }
      ]
    },
    {
      "cell_type": "code",
      "source": [
        "#This code displays a pie chart of the top 5 countries reported\n",
        "#Of the top 5 countries, India alone is 51.7%\n",
        "Country.head(5).plot(kind='pie', autopct=lambda p: '{:.1f}%'.format(p))\n",
        "plt.show()"
      ],
      "metadata": {
        "id": "nMAlq76GAWYR",
        "outputId": "0d3a4250-3034-497b-f91f-a94065a00d39",
        "colab": {
          "base_uri": "https://localhost:8080/",
          "height": 406
        }
      },
      "execution_count": 96,
      "outputs": [
        {
          "output_type": "display_data",
          "data": {
            "text/plain": [
              "<Figure size 640x480 with 1 Axes>"
            ],
            "image/png": "[encoded data removed]"
          },
          "metadata": {}
        }
      ]
    },
    {
      "cell_type": "code",
      "source": [
        "#Now Let's Show the distribution of registrations within a 30 day period\n",
        "plt.figure(figsize=(8,4))\n",
        "ndata['Sign Up Date'].hist(bins=30, edgecolor='black')\n",
        "plt.xticks(rotation=90)\n",
        "plt.show()"
      ],
      "metadata": {
        "id": "iYAzK-QKEJGJ",
        "outputId": "a439b555-eadc-4c05-f41e-fa786174de8b",
        "colab": {
          "base_uri": "https://localhost:8080/",
          "height": 412
        }
      },
      "execution_count": 97,
      "outputs": [
        {
          "output_type": "display_data",
          "data": {
            "text/plain": [
              "<Figure size 800x400 with 1 Axes>"
            ],
            "image/png": "[encoded data removed]"
          },
          "metadata": {}
        }
      ]
    },
    {
      "cell_type": "markdown",
      "source": [
        "# **Exploratory Data Analysis (EDA) Report:**\n",
        "EDA is a critical initial step in any data analysis process. Its primary purpose is to summarize the main characteristics of a dataset, often employing visual methods. This report aims to provide insights into the dataset sourced from \"User_Data.csv\" through various analytical techniques.\n",
        "\n",
        "Purpose of EDA\n",
        "The primary goals of conducting EDA on the dataset include:\n",
        "\n",
        "Understanding the Structure: Assessing the size, shape, and composition of the dataset. Identifying Data Quality Issues: Detecting missing values, outliers, or inconsistencies that could affect analysis. Exploring Relationships: Investigating correlations and patterns between variables to uncover insights. Deriving Descriptive Statistics: Calculating summary metrics to describe central tendencies and distributions. Generating Visualizations: Creating graphs and plots to visualize data distributions and relationships effectively.\n",
        "\n",
        "1. Dataset Overview\n",
        "The dataset contains 27,562 entries and 8 columns. Each row represents a user profile with various attributes such as PreferredSponsors, Gender, Country, Degree, Sign Up Date, city, zip code, and isFromSocialMedia.\n",
        "\n",
        "2. Data Quality Assessment\n",
        "Missing Values\n",
        "The columns with missing values and their counts are as follows:\n",
        "Gender: 9,535 missing values\n",
        "Country: 62 missing values\n",
        "Degree: 10,812 missing values\n",
        "city: 9,534 missing values\n",
        "zip: 9,544 missing values\n",
        "isFromSocialMedia: 9 missing values\n",
        "Data Types\n",
        "All columns are represented as objects **strings**, indicating potential categorical or text data types.\n",
        "\n",
        "Column Analysis:\n",
        "\n",
        "PreferredSponsors:\n",
        "Data Type: Object (String).\n",
        "No Missing values\n",
        "\n",
        "Gender:\n",
        "Data Type: Object (String)\n",
        "Potential Issues:\n",
        "Missing Values: 9,535 missing values. Categories like \"Other\" and \"Prefer\" have very low counts which might need special handling or grouping.\n",
        "\n",
        "Country:\n",
        "Data Type: Object (String)\n",
        "Potential Issues: 62 missing values.\n",
        "\n",
        "**Sign Up Date:**\n",
        "Data Type: Object (String) (Needs to be converted to DateTime)\n",
        "No Missing values\n",
        "\n",
        "City\n",
        "Data Type: Object (String)\n",
        "Potential Issues: 9,534 missing values.\n",
        "\n",
        "Zip\n",
        "Data Type: Object (String) (Potentially numeric but often treated as string for better handling)\n",
        "Potential Issues: 9,544 missing values.\n",
        "\n",
        "isFromSocialMedia\n",
        "Data Type: Boolean (True/False) (Currently Object/String, needs conversion)\n",
        "Potential Issues: 9 missing values.\n",
        "\n",
        "Summary of Potential Issues:\n",
        "Missing Values: Significant missing values in Gender, Country, Degree, City, Zip, and isFromSocialMedia columns.\n",
        "\n",
        "Data Type Conversions:\n",
        "Sign Up Date should be converted to DateTime. isFromSocialMedia should be converted to Boolean\n",
        "\n",
        "Categorical Anomalies:\n",
        "Low count categories in Gender which might need special handling. Zip might contain alphanumeric entries and should be handled appropriately.\n",
        "\n",
        "Profile ID Analysis\n",
        "Identify Duplicate or Missing Profile IDs\n",
        "\n",
        "\n",
        "Initial Observation\n",
        "Based on the initial exploratory analysis of the dataset provided (User_Data.csv), here are some observations and patterns identified:\n",
        "\n",
        "Missing Values: Several columns have missing values:\n",
        "\n",
        "Gender: 9,535 missing values.\n",
        "Country: 62 missing values.\n",
        "Degree: 10,812 missing values.\n",
        "City: 9,534 missing values.\n",
        "Zip: 9,544 missing values.\n",
        "isFromSocialMedia: 9 missing values.\n",
        "Addressing these missing values will be crucial for accurate analysis and modeling.\n",
        "\n",
        "Data Types:\n",
        "Sign Up Date is currently stored as an object (string) and should be converted to DateTime for proper time series analysis.\n",
        "isFromSocialMedia is stored as an object (string) and should be converted to Boolean for easier handling of true/false values.\n",
        "\n",
        "Categorical Variables:\n",
        "Gender and Degree columns contain categorical data with several distinct categories. Special handling might be required for categories with low frequencies or missing values.\n",
        "\n",
        "The Country column shows a wide range of countries, with India having the highest frequency among the top countries.\n",
        "\n",
        "Preferred Sponsors:\n",
        "The PreferredSponsors column contains lists of sponsors preferred by users, which might need to be parsed or analyzed further depending on the analysis goals.\n",
        "\n",
        "Data Integrity:\n",
        "No obvious outliers or anomalies were identified in numerical columns (if present), but further detailed analysis would be required to confirm.\n",
        "\n",
        "Conclusion\n",
        "These initial observations provide a foundation for further exploratory data analysis (EDA) and data preprocessing. Addressing missing values, converting data types, handling categorical variables appropriately, and ensuring data integrity are critical steps before proceeding with deeper analysis or modeling tasks. Each observation serves as a starting point for more detailed investigation into the dataset's characteristics and p\n",
        "\n",
        "Potential Areas of Interest for Deeper Investigation\n",
        "Based on the initial exploratory data analysis, here are some key areas for deeper investigation in the upcoming weeks:\n",
        "\n",
        "**Handling Missing Values:**\n",
        "\n",
        "Gender: With a significant portion of missing values (9,535 missing values), consider strategies for imputation or explore if the missingness itself conveys important information.\n",
        "Degree: A substantial amount of missing data (10,812 missing values) requires attention. Investigate patterns in missingness and decide on an imputation strategy.\n",
        "Country, City, Zip: Address the missing values in these columns (62, 9,534, and 9,544 missing values, respectively) to ensure complete geographical information.\n",
        "isFromSocialMedia: Only 9 missing values, but still worth handling to maintain data integrity.\n",
        "Data Type Conversions:\n",
        "\n",
        "Sign Up Date: Convert this column from string to DateTime format to enable time-series analysis and insights related to user sign-up trends over time.\n",
        "isFromSocialMedia: Convert this column from string to Boolean for better logical handling and analysis of social media influence.\n",
        "Categorical Data Analysis:\n",
        "\n",
        "Gender: Explore the distribution of gender categories and analyze any potential impact of missing or less frequent categories like \"Other\" and \"Prefer not to say.\"\n",
        "Degree: Assess the distribution of educational levels and explore correlations with other variables such as country, gender, and social media influence.\n",
        "PreferredSponsors: Parse and analyze the list of sponsors preferred by users to identify trends and popular sponsors.\n",
        "Geographical Analysis:\n",
        "\n",
        "Country, City, Zip: Conduct a detailed analysis of user distribution by country and city. Investigate any regional trends or anomalies.\n",
        "Top Countries: Focus on the top 20 countries by user count. Understand user demographics and preferences within these countries.\n",
        "User Behavior and Trends:\n",
        "\n",
        "Sign Up Patterns: Analyze sign-up trends over time. Identify any seasonal patterns, spikes, or dips in user sign-ups.\n",
        "Social Media Influence: Examine the impact of social media on user sign-ups. Compare the behavior and characteristics of users coming from social media versus other sources.\n",
        "Data Integrity and Quality:\n",
        "\n",
        "ProfileID Uniqueness: Ensure that ProfileIDs are unique and investigate any instances of duplicate or missing ProfileIDs.\n",
        "Outliers: Identify and handle any outliers in numerical data (if present). This may involve visualizing distributions and applying statistical methods to detect anomalies.\n",
        "Correlation and Relationships:\n",
        "\n",
        "Gender vs. Country: Use cross-tabulation and visualization to explore the relationship between gender and country. This can reveal demographic insights and gender distribution across different regions.\n",
        "Degree vs. Other Variables: Analyze how educational levels correlate with other variables such as country, gender, and social media influence.\n",
        "Preferred Sponsors: Investigate if there are any notable patterns or preferences in the sponsors chosen by users from different demographics.\n",
        "Advanced Analysis:\n",
        "\n",
        "Cluster Analysis: Perform cluster analysis to identify distinct user segments based on demographic and behavioral attributes.\n",
        "Predictive Modeling: Explore predictive modeling techniques to predict user behavior or trends, such as the likelihood of signing up through social media.\n",
        "Conclusion\n",
        "By focusing on these areas, we can gain deeper insights into the dataset and uncover valuable information about user behavior, demographics, and trends. This will also help in improving data quality and ensuring robust analysis in future steps. Each area of interest provides a pathway to more detailed and targeted investigations, paving the way for actiona\n",
        "\n",
        "Challenges Encountered During the Exploratory Data Analysis\n",
        "Missing Values:\n",
        "\n",
        "Extent of Missing Data: A significant number of missing values were encountered in several columns (Gender, Degree, City, Zip). Handling such extensive missing data requires careful consideration to avoid introducing biases.\n",
        "Imputation Strategies: Deciding on appropriate imputation methods (mean, median, mode, or advanced techniques) was challenging due to the varying nature of the data in different columns.\n",
        "Data Type Issues:\n",
        "\n",
        "Sign Up Date: Converting the Sign Up Date column from string to DateTime format required additional preprocessing and validation to ensure accuracy.\n",
        "Boolean Conversion: Converting the isFromSocialMedia column from object to Boolean format necessitated careful handling of potential inconsistencies in the data representation.\n",
        "Categorical Variables:\n",
        "\n",
        "High Cardinality: The Country column contained a high number of unique values (169), which complicates analysis and visualization.\n",
        "Rare Categories: The Gender and Degree columns had categories with very low frequencies, making it challenging to derive meaningful insights.\n",
        "Data Integrity and Quality:\n",
        "\n",
        "Duplicate Profile IDs: Ensuring the uniqueness of Profile IDs was a critical step, but it was challenging to identify and resolve duplicates without additional context or business rules.\n",
        "Inconsistent Data Entries: Inconsistencies in data entries, such as variations in city names or zip codes, posed challenges for accurate geographical analysis.\n",
        "Complexity of Analysis:\n",
        "\n",
        "Nested Data: The PreferredSponsors column contained lists of sponsors, requiring parsing and restructuring for meaningful analysis.\n",
        "Cross-Tabulation: Analyzing relationships between categorical variables (e.g., Gender vs. Country) required careful handling of data sparsity and interpretation of results.\n",
        "Visualization Challenges:\n",
        "\n",
        "Overcrowded Visuals: Visualizing high-cardinality categorical data (e.g., countries) in a meaningful and interpretable way was challenging due to overcrowded plots.\n",
        "Stacked Bar Charts: Creating stacked bar charts for cross-tabulation analysis required careful attention to labeling and legend placement to ensure clarity.\n",
        "Outliers and Anomalies:\n",
        "\n",
        "Identifying Outliers: Detecting and handling outliers in the dataset required robust statistical methods and visual inspection, which was time-consuming and complex.\n",
        "Anomaly Detection: Distinguishing between true anomalies and data entry errors was difficult without additional domain knowledge.\n",
        "Performance and Efficiency:\n",
        "\n",
        "Large Dataset: The dataset's size (27,562 rows) made some operations, especially those involving complex computations or large groupings, slower and more resource-intensive.\n",
        "Memory Usage: Efficiently managing memory usage during data processing and analysis to avoid performance bottlenecks was a continual challenge.\n",
        "Conclusion\n",
        "These challenges highlight the complexities and intricacies involved in exploratory data analysis. Addressing these issues requires a combination of technical skills, careful planning, and domain knowledge. Despite these challenges, the EDA process provides valuable insights and sets the stage for more detailed analysis and modeling. Future steps should include refining data preprocessing techniques, leveraging advanced imputation and anomaly detection methods, and optimizing perfor\n",
        "\n",
        "Missing or Unclear Data Points\n",
        "During the exploratory data analysis (EDA) of the dataset, several missing or unclear data points were identified. These need to be addressed for further analysis and discussion.\n",
        "\n",
        "Missing Data Points\n",
        "Gender:\n",
        "Missing Values: 9,535 entries are missing.\n",
        "Discussion Points: Determine if imputation is necessary or if the missing values have a significant pattern (e.g., users who chose not to disclose their gender).\n",
        "\n",
        "Degree:\n",
        "Missing Values: 10,812 entries are missing.\n",
        "Discussion Points: Explore if the missing degree information correlates with specific user groups or if it's randomly distributed.\n",
        "\n",
        "Country:\n",
        "Missing Values: 62 entries are missing.\n",
        "Discussion Points: Assess if imputing the country based on other available information (e.g., city, zip code) is feasible.\n",
        "\n",
        "City:\n",
        "Missing Values: 9,534 entries are missing.\n",
        "Discussion Points: Evaluate the impact of missing city information on geographical analysis and consider strategies for imputation.\n",
        "\n",
        "Zip:\n",
        "Missing Values: 9,544 entries are missing.\n",
        "Discussion Points: Determine if missing zip codes can be inferred from other location data (country, city) or if they can be left as missing without affecting analysis.\n",
        "\n",
        "isFromSocialMedia:\n",
        "Missing Values: 9 entries are missing.\n",
        "Discussion Points: Given the small number of missing values, decide whether to drop these entries or impute the missing information.\n",
        "\n",
        "Unclear Data Points\n",
        "\n",
        "PreferredSponsors:\n",
        "Unclear Structure: Contains lists of sponsors, but the structure and analysis requirements are unclear.\n",
        "Discussion Points: Clarify how to handle and analyze these lists. Should we break them into separate columns, or is there a need to aggregate sponsor preferences?\n",
        "\n",
        "Sign Up Date:\n",
        "String Format: Currently stored as a string, needs conversion to DateTime.\n",
        "Discussion Points: Confirm the format of the date and ensure accurate conversion to DateTime for time series analysis.\n",
        "Potential Impact of Missing Data\n",
        "\n",
        "Bias Introduction:\n",
        "Missing data, especially in key variables like gender and degree, can introduce bias if not handled correctly. This can affect the validity of any statistical analysis or predictive modeling.\n",
        "\n",
        "Data Imputation:\n",
        "The choice of imputation method (mean, median, mode, or advanced techniques) can significantly influence the dataset's integrity and subsequent analysis results.\n",
        "Analysis Limitations:\n",
        "\n",
        "Missing geographical information (country, city, zip) can limit the ability to perform detailed geographical or regional analysis. It can also affect any location-based segmentation or targeting strategies.\n",
        "Social Media Influence:\n",
        "\n",
        "Missing values in the isFromSocialMedia column, although few, can affect the analysis of social media influence on user sign-ups and behavior.\n",
        "Conclusion and Next Steps\n",
        "Addressing these missing and unclear data points is crucial for accurate and meaningful analysis. The next steps should include:\n",
        "\n",
        "Detailed Missing Data Analysis:\n",
        "\n",
        "Perform a more in-depth analysis to understand the patterns and potential reasons behind missing data.\n",
        "Data Imputation Strategies:\n",
        "\n",
        "Develop and apply appropriate imputation strategies for each column with missing values.\n",
        "Clarify and Clean Data Structures:\n",
        "\n",
        "Resolve any unclear data structures, particularly in the PreferredSponsors column.\n",
        "\n",
        "Document and Discuss:\n",
        "Document all decisions and strategies for handling missing and unclear data points. Discuss these with stakeholders to ensure alignment and transparency.\n",
        "By addressing these challenges systematically, we can enhance the quality an\n",
        "\n",
        "**End of Report**\n",
        "\n",
        "This comprehensive EDA report serves as a foundational document for stakeholders and analysts, providing actionable insights and paving the way for further data-driven decision-making processes.d reliability of the dataset, leading to more robust and insightful analysis for large-scale data analysis.ble insights and informed decision-making.otential insights it can provide."
      ],
      "metadata": {
        "id": "sNoWpG7AMlMD"
      }
    }
  ]
}